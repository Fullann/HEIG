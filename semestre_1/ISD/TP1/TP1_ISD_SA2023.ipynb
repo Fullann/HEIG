{
 "cells": [
  {
   "cell_type": "markdown",
   "id": "5f8bfb5c",
   "metadata": {},
   "source": [
    "# Introduction à la Science des données \n",
    "\n",
    "<div class=\"alert alert-block alert-DANGER\">\n",
    "<b>  </b>\n",
    "</div>\n",
    "\n",
    "## Travail Pratique 01 – Introduction au langage de programmation Python et aux outils d'analyse de données \n",
    "\n",
    "### Table des matières\n",
    "\n",
    "[Partie 1: Bases de Python](#Partie-1:-Bases-de-Python)\n",
    "\n",
    "[Partie 2: NumPy](#Partie-2:-NumPy)\n",
    "\n",
    "[Partie 3: Introduction à Pandas](#Partie-3:-Introduction-à-Pandas)\n",
    "\n",
    "[Partie 4: MATPLOTLIB, Seaborn et le dataset Iris](#Partie-4:-MATPLOTLIB,-Seaborn-et-le-dataset-Iris)\n",
    "\n",
    "\n",
    "\n",
    "<div class=\"alert alert-block alert-success\">\n",
    "<b>Informations générales </b>\n",
    "</div>\n",
    "\n",
    "**Professeurs**: Carlos Andrés Peña-Reyes, Stephan Robert\n",
    "\n",
    "**Assistant(s)**: Thibault Schowing, Xavier Brochet\n",
    "\n",
    "**Contact**: prenom.nom@heig-vd.ch ou de préférence via Teams pour l'assistant\n",
    "\n",
    "**Rendu**:\n",
    "\n",
    "- Date: Pas de rendu. Le TP2 commencera le 02.10.23 et sera à rendre le 05.11.23, à vous de vous organiser !\n",
    "\n",
    "- Modalité: Travail non noté. Rien à rendre. Prérequis au TP2.\n",
    "\n",
    "\n",
    "**Étudiant**:\n",
    "\n",
    "\n",
    "<div class=\"alert alert-block alert-danger\">\n",
    "<b>ATTENTION: </b> pour les TPs à rendre il vous sera demandé d'inscrire vos noms dans l'entête du fichier comme ci-dessous, et de mettre vos noms de famille dans le nom de fichier selon un format spécifié avant de le rendre (rien de compliqué, quelque chose du genre ISD_TP2_NOM1_NOM2.ipynb). Chaque erreur ou oubli fait perdre un temps précieux lors des corrections. D'après les années précédentes il s'agit d'un exercice difficile qui va donc compter pour jusqu'à 10% des points du TP. Faites cet exercice dès le début !\n",
    "</div>\n",
    "\n",
    "- Prénom Nom \n",
    "- Prénom2 Nom2 \n",
    "\n",
    "\n",
    "***\n",
    "\n",
    "\n",
    "<div class=\"alert alert-block alert-success\">\n",
    "<b>Objectifs </b>\n",
    "</div>\n",
    "\n",
    "Ce premier travail pratique vise à apprivoiser les bases de Python, ainsi qu'à découvrir les outils que nous allons utiliser pour la science des données. Dans les premiers labos, très peu de programmation vous sera demandée et le travail sera axé sur la compréhension des **Notebooks Ipython**, des **formats de données**, des librairies de manipulation des données **Numpy et Pandas** ainsi que de la librairie de visualisation **Matplotlib**. \n",
    "\n",
    "Ce premier travail pratique vous servira de point d'ancrage pour les bases qui seront utilisées tout au long du cours. Faites-le et refaites-le si nécessaire. Les bases seront considérées comme acquises à partir du Travail Pratique suivant.\n",
    "\n",
    "Sauf en cas d'oubli, après chaque question vous trouverez soit le texte \"*Réponse:*\" soit des détails concernant du code à compléter ou exécuter. Écrivez votre réponse après \"*Réponse:*\" directement en ajoutant votre texte à la cellule Markdown ou ajoutez une directement après en utilisant \"Insert -> Cell Below/Above\" puis en changeant son type en \"Markdown\". \n",
    "\n",
    "\n",
    "<div class=\"alert alert-block alert-warning\">\n",
    "<b>Citez vos sources</b>\n",
    "</div>\n",
    "\n",
    "\n",
    "N'hésitez pas à utiliser des Cheat sheets et google pour (re)trouver rapidement des infos. Habituez vous aux sources fiables comme la documentation et les tutos officiels, puis migrez vers Stackoverflow pour les questions plus complexes. Si vous cherchez uniquement des informations sur la syntaxe, il n'y a pas besoin de citer vos sources. En revanche si vous trouvez des solutions complexes à certain problèmes, citez vos sources dans un commentaire dans le code par exemple. Cela vous permet d'éviter des accusations de **plagiat** (dont les conséquences ne se limitent pas juste à une mauvaise note) et vous permet surtout de retrouver d'où viennent vos solutions. Il est normal de chercher des solutions existantes à des problèmes courants afin de ne pas réinventer la roue trois fois par jour. \n",
    "\n",
    "\n",
    "<div class=\"alert alert-block alert-info\">\n",
    "<b>Documentation et cheat sheets</b>\n",
    "</div>\n",
    "\n",
    "En cas de besoin sur une fonction particulière, il vous est conseillé de commencer par chercher rapidement dans la documentation. Ci-dessous, vous avez les liens vers les documentations officielles des Packages que nous allons utiliser tout au long du semestre ainsi que **des liens vers des cheat sheets**. Les cheat sheets vous résument les différentes fonctions de manière très rapide. Nous vous conseillons fortement de garder ces cheat sheets à portée de main: c'est un bon aide mémoire et un excellent moyen de se replonger dans le contexte. Le site [Datacamp](https://www.datacamp.com/), site d'information et d'éducation à la science des données, fournit d'excellentes cheat sheets pour tous les outils ci-dessous et plus. Vous pouvez trouver ces cheat sheets [ici](https://www.utc.fr/~jlaforet/Suppl/python-cheatsheets.pdf) en un seul fichier pdf.\n",
    "\n",
    "#### Python\n",
    "\n",
    "La documentation de Python, dans notre cas la version 3.9, est disponible [ici](https://docs.python.org/3.9/). Étant donné qu'il s'agit des ressources du langage directement, elles sont très complètes pour ne pas dire trop complètes pour notre cas. Dans ces deux prochains labos nous allons utiliser d'autres ressources, comme le site [https://www.w3schools.com/](https://www.w3schools.com/) qui propose des tutoriels et exercices plus ciblés. Vous pouvez trouver une Cheat Sheet en ligne sur [https://www.pythoncheatsheet.org/](https://www.pythoncheatsheet.org/). Vous pourrez retrouver rapidement des infos sur les bases, les structures de données (listes, dictionnaires, etc) et bien d'autres sujets.\n",
    "\n",
    "\n",
    "\n",
    "#### NumPy\n",
    "\n",
    "La documentation est disponible sur le site [numpy.org](https://numpy.org/doc/1.22/user/absolute_beginners.html). \n",
    "\n",
    "#### Pandas\n",
    "\n",
    "La documentation est disponible sur le site [pandas.pydata.org](https://pandas.pydata.org/). Vous pouvez y trouver entre autre une [intro en 10 minutes](https://pandas.pydata.org/docs/user_guide/10min.html) qui résume très bien l'utilisation de Pandas pour manipuler des données. \n",
    "\n",
    "\n",
    "#### Matplotlib\n",
    "\n",
    "La documentation est diponible sur le site [https://matplotlib.org/stable/index.html](https://matplotlib.org/stable/index.html). Vous pouvez aussi y trouver des tutoriels, des [exemples et idées](https://matplotlib.org/stable/gallery/index.html) et bien d'autres informations. \n",
    "\n",
    "\n",
    "#### Seaborn\n",
    "\n",
    "La documentation ainsi que des exemples sont disponibles sur le site [https://seaborn.pydata.org/](https://seaborn.pydata.org/). \n",
    "\n",
    "\n",
    "\n",
    "\n",
    "<div class=\"alert alert-block alert-info\">\n",
    "<b>Tutos vidéo</b>\n",
    "</div>\n",
    "\n",
    "#### Python scientifique\n",
    "\n",
    "Vous êtes plutôt du genre vidéos que documentation ? Afin d'éviter de vous perdre sur les centaines, voir milliers, de vidéos existantes sur le sujet, je vous conseille [cette vidéo en Anglais](https://www.youtube.com/watch?v=r-uOLxNrNk8) qui regroupe tout ces sujets en (tout de même) 4h, avec des examples et exercices. Si vous préférez des vidéos en français, [cette playlist](https://www.youtube.com/watch?v=82KLS2C_gNQ&list=PLO_fdPEVlfKqMDNmCFzQISI2H_nJcEDJq) contient énormément de vidéos avec un niveau allant des bases de Python, NumPy et Matplotlib, à un niveau très complexe. A vous de faire le tri selon vos besoins !\n",
    "\n",
    "#### Statistiques et théorie\n",
    "\n",
    "Dans ce cours et ces travaux pratiques, nous aborderons des bases de statistique et d'apprentissage automatique. Le but est de garder le bagage théorique le plus léger possible tout en le rendant le plus ludique et concret possible. Si certains concepts s'avèrent trop compliqués ou ont besoin d'un raffraichissement voici quelques chaines Youtube qui vous aideront grandement et pas seulement pour ce cours: \n",
    "\n",
    "- [Crash Course - Statistics](https://www.youtube.com/watch?v=zouPoc49xbk&list=PL8dPuuaLjXtNM_Y-bUAhblSAdWRnmBUcr), Playlist de vidéos courtes sur la statistique pour rapidement voir l'essentiel. Fortement recommandée pour une bonne introduction à la statistique !\n",
    "- [3blue1brown](https://www.youtube.com/c/3blue1brown), Concerne plutôt les concepts mathématiques, de l'algèbre de base aux réseaux de neurones en passant par la théorie des probabilités.\n",
    "- [StatQuest with Josh Starmer](https://www.youtube.com/c/joshstarmer), Statistique et machine learning, certains algorithmes qui seront vu en cours sont très bien décrits. \n"
   ]
  },
  {
   "cell_type": "markdown",
   "id": "e4810926",
   "metadata": {},
   "source": [
    "<div class=\"alert alert-block alert-info\">\n",
    "<b>Rappel: l'installation d'Anaconda et Jupyter, ainsi que la création des environnements sont résumés dans le guide disponible sur Cyberlearn.</b>\n",
    "</div>\n",
    "\n",
    "\n",
    "**Pour quitter/stopper Jupyter :**\n",
    "\n",
    "- depuis l'interface graphique, appuyez sur \"quit\" en haut à droite ou\n",
    "- depuis la console faites *ctrl+c* et confirmez si nécessaire.\n"
   ]
  },
  {
   "cell_type": "markdown",
   "id": "0320eab6",
   "metadata": {},
   "source": [
    "***\n",
    "# Partie 1: Bases de Python\n",
    "\n",
    "\n",
    "\n",
    "## 1.1 Langage de programmation python\n",
    "\n",
    "\n",
    "Le site w3schools.com vous propose une série d’exercices en ligne afin de mettre en pratique le langage de programmation Python et ainsi accomplir les premiers pas avec ce langage. Le langage est de haut niveau et les structures de base dont vous aurez besoin sont rapidement prise en main. \n",
    "\n",
    "Allez sur le site de [w3schools](https://www.w3schools.com/python/default.asp) et suivez les premières parties du tutoriel sur Python. Les exercices sont disponibles dans chaque section qui les concerne mais aussi directement [ici](https://www.w3schools.com/python/exercise.asp). \n",
    "\n",
    "Faites ceux concernant: \n",
    "- la syntaxe du langage, l’édition des commentaires, l’utilisation des variables et les différents types des données, \n",
    "- l’utilisation des opérateurs arithmétiques et logiques, \n",
    "- diverses structures des données, telles que les listes, tuples, sets et dictionnaires, \n",
    "- les instructions de comparaison et des boucles, les fonctions et l’importation des modules. \n",
    "\n",
    "Les exercices sont simples: vous pouvez afficher les solutions et revenir en arrière ou éviter une section avec laquelle vous êtes déjà à l'aise. \n",
    "\n",
    "**Ne fait pas partie du labo: Les parties \"classes\" et \"inheritance\" et ce qui les suit.**\n",
    "\n",
    "\n",
    "Pour rapidement retrouver des informations sur le langage et éviter les frustrations, il vous est **fortement recommandé** d'utiliser des cheat sheets. Il existe des formats en ligne comme [https://www.pythoncheatsheet.org/](https://www.pythoncheatsheet.org/) qui vous seront très pratiques pour commencer. \n",
    "\n",
    "***\n"
   ]
  },
  {
   "cell_type": "markdown",
   "id": "4ebae482",
   "metadata": {},
   "source": [
    "## 1.2 Exemples et exercices\n",
    "\n",
    "On vous présente ici quelques exemples, le but est de comprendre les listes, les boucles *for* et surtout **la compréhension de liste** (optimisation pour la création de liste). \n",
    "\n",
    "\n",
    "### Exemple - Compréhension de liste\n",
    "\n",
    "On a ici une fonction qui reçoit en entrée un entier *n* et qui calcule la somme: $1 + 2^{2} + 3^{2} + ... + n^{2}$ en utilisant une **boucle for**:"
   ]
  },
  {
   "cell_type": "code",
   "execution_count": 1,
   "id": "a28b22f1",
   "metadata": {},
   "outputs": [
    {
     "data": {
      "text/plain": [
       "14"
      ]
     },
     "execution_count": 1,
     "metadata": {},
     "output_type": "execute_result"
    }
   ],
   "source": [
    "def func_A (n):\n",
    "    \n",
    "    result = 0   # La variable \"result\" est initialisée à 0 \n",
    "    for i in range(1, n+1): # Pour i = chaque valeur entre 1 et n...\n",
    "        result += (i ** 2) # A chaque itération on ajoute le carré de i à résult\n",
    "        \n",
    "    return result\n",
    "\n",
    "func_A(3)"
   ]
  },
  {
   "cell_type": "markdown",
   "id": "504c0400",
   "metadata": {},
   "source": [
    "On peut optimiser l'exemple ci-dessus en utilisan la méthode **sum(liste)** qui retourne la somme des éléments d'une liste.\n",
    "\n",
    "Pour des contenus de boucle relativement simples, on peut utiliser la **compréhension de liste**. Cette façon de faire est directement optimisée par Python et permet une bonne lisibilité (moins de lignes). Il vous est fortement conseillé d'utiliser directement cette notation afin de vous familiariser avec. Vous pouvez aller voir [la doc concernant la compréhension de liste](https://docs.python.org/3/tutorial/datastructures.html#list-comprehensions) et parcourir rapidement la page. \n",
    "\n",
    "Structure pour la compréhension de liste : ```new_list = [function(item) for item in list if condition(item)]```\n",
    "\n",
    "Pour notre exemple, nous pouvons écrire une fonction qui fait exactement la même chose que func_A() mais en une seule ligne:"
   ]
  },
  {
   "cell_type": "code",
   "execution_count": 2,
   "id": "eac93ec5",
   "metadata": {},
   "outputs": [
    {
     "data": {
      "text/plain": [
       "14"
      ]
     },
     "execution_count": 2,
     "metadata": {},
     "output_type": "execute_result"
    }
   ],
   "source": [
    "def func_B(n):\n",
    "    return sum([i**2 for i in range(1, n+1)]) \n",
    "\n",
    "func_B(3)"
   ]
  },
  {
   "cell_type": "markdown",
   "id": "52760542",
   "metadata": {},
   "source": [
    "Il est possible d'ajouter des conditions (if) dans la boucle for comme ci-dessous:"
   ]
  },
  {
   "cell_type": "code",
   "execution_count": 3,
   "id": "0933a50b",
   "metadata": {},
   "outputs": [
    {
     "data": {
      "text/plain": [
       "6"
      ]
     },
     "execution_count": 3,
     "metadata": {},
     "output_type": "execute_result"
    }
   ],
   "source": [
    "def func_C(n):\n",
    "    \"\"\"Retourne la somme des chifres paires entre 1 et n\"\"\"\n",
    "    return sum([i for i in range(1, n+1) if i%2 == 0])\n",
    "\n",
    "func_C(4)"
   ]
  },
  {
   "cell_type": "markdown",
   "id": "4327a1cd",
   "metadata": {},
   "source": [
    "Décomposé en plusieurs parties nous obtenons:"
   ]
  },
  {
   "cell_type": "code",
   "execution_count": 4,
   "id": "ceadf6df",
   "metadata": {},
   "outputs": [
    {
     "name": "stdout",
     "output_type": "stream",
     "text": [
      "[1, 2, 3, 4]\n",
      "[2, 4]\n",
      "6\n"
     ]
    }
   ],
   "source": [
    "# Création d'une liste d'entiers de 1 à n, avec n=4\n",
    "n = 4\n",
    "\n",
    "print([i for i in range(1, n+1)])\n",
    "\n",
    "\n",
    "# Ajout d'une condition afin de n'ajouter que les éléments pairs à la liste\n",
    "print([i for i in range(1, n+1) if i%2 == 0])\n",
    "\n",
    "\n",
    "# Utilisation de la fonction sum() pour effectuer la somme du tableau. \n",
    "print(sum([i for i in range(1, n+1) if i%2 == 0]))"
   ]
  },
  {
   "cell_type": "markdown",
   "id": "899d0d7a",
   "metadata": {},
   "source": [
    "### Exercice 1.2.1 - compréhension de liste\n",
    "\n",
    "Soit la liste *a*, créer une liste *b* ne contenant que les éléments paires de la liste *a*."
   ]
  },
  {
   "cell_type": "code",
   "execution_count": 5,
   "id": "7a22bb20",
   "metadata": {},
   "outputs": [
    {
     "name": "stdout",
     "output_type": "stream",
     "text": [
      "[0, 2, 4, 6, 8]\n"
     ]
    }
   ],
   "source": [
    "a = [1,2,3,4,5,6,7,8,9]\n",
    "\n",
    "b = [i for i in range(0, len(a)) if a[i]%2 == 1]\n",
    "print(b)"
   ]
  },
  {
   "cell_type": "markdown",
   "id": "c42f1f98",
   "metadata": {},
   "source": [
    "### Exercice 1.2.2 - range(), randrange(), randint() et random.choice()\n",
    "\n",
    "En utilisant la compréhension de liste, créez une liste de nombres aléatoires compris entre 1 et 10 (compris) de plusieurs manières différentes. Pour ces fonctions, allez voir la documentation pour voir leur manière de fonctionner et surtout, pour prendre l'habitude de le faire !\n",
    "\n",
    "Documentation sur w3schools: [random.randrange](https://www.w3schools.com/python/ref_random_randrange.asp), [random.randint](https://www.w3schools.com/python/ref_random_randint.asp), [random.choices](https://www.w3schools.com/python/ref_random_choices.asp)\n",
    "\n",
    "1. Créez une liste de 1_000_000 d'élément en utilisant la fonction *range()* comme plus haut puis la fonction *randint()*\n",
    "2. Idem que ci-dessus, mais en utilisant la fonction *randrange()*\n",
    "3. Utilisez la fonction random.choices(...)\n",
    "\n",
    "\n",
    "Vérifiez que vous avez le bon nombre d'éléments dans vos listes avec la fonction *len(liste)*.\n",
    "\n",
    "Note: vous pouvez faire une boucle 1000x sans utiliser la variable de boucle. "
   ]
  },
  {
   "cell_type": "code",
   "execution_count": 2,
   "id": "150d0bba",
   "metadata": {},
   "outputs": [
    {
     "name": "stderr",
     "output_type": "stream",
     "text": [
      "C:\\Users\\natha\\AppData\\Local\\Temp\\ipykernel_4284\\2780738006.py:33: RuntimeWarning: divide by zero encountered in log\n",
      "  return a * np.log(x) + b\n",
      "C:\\Users\\natha\\AppData\\Local\\Temp\\ipykernel_4284\\2780738006.py:33: RuntimeWarning: invalid value encountered in log\n",
      "  return a * np.log(x) + b\n"
     ]
    },
    {
     "ename": "ValueError",
     "evalue": "operands could not be broadcast together with shapes (184,) (54,) ",
     "output_type": "error",
     "traceback": [
      "\u001b[1;31m---------------------------------------------------------------------------\u001b[0m",
      "\u001b[1;31mValueError\u001b[0m                                Traceback (most recent call last)",
      "\u001b[1;32mc:\\Users\\natha\\OneDrive\\Documents\\HEIG\\1er\\ISD\\TP1_ISD_SA2023.ipynb Cell 15\u001b[0m line \u001b[0;36m3\n\u001b[0;32m     <a href='vscode-notebook-cell:/c%3A/Users/natha/OneDrive/Documents/HEIG/1er/ISD/TP1_ISD_SA2023.ipynb#X20sZmlsZQ%3D%3D?line=32'>33</a>\u001b[0m     \u001b[39mreturn\u001b[39;00m a \u001b[39m*\u001b[39m np\u001b[39m.\u001b[39mlog(x) \u001b[39m+\u001b[39m b\n\u001b[0;32m     <a href='vscode-notebook-cell:/c%3A/Users/natha/OneDrive/Documents/HEIG/1er/ISD/TP1_ISD_SA2023.ipynb#X20sZmlsZQ%3D%3D?line=34'>35</a>\u001b[0m \u001b[39m# Effectuer la régression\u001b[39;00m\n\u001b[1;32m---> <a href='vscode-notebook-cell:/c%3A/Users/natha/OneDrive/Documents/HEIG/1er/ISD/TP1_ISD_SA2023.ipynb#X20sZmlsZQ%3D%3D?line=35'>36</a>\u001b[0m params, covariance \u001b[39m=\u001b[39m curve_fit(logarithmic_function, x, nb_iteration)\n\u001b[0;32m     <a href='vscode-notebook-cell:/c%3A/Users/natha/OneDrive/Documents/HEIG/1er/ISD/TP1_ISD_SA2023.ipynb#X20sZmlsZQ%3D%3D?line=37'>38</a>\u001b[0m \u001b[39m# Récupérer les coefficients a et b\u001b[39;00m\n\u001b[0;32m     <a href='vscode-notebook-cell:/c%3A/Users/natha/OneDrive/Documents/HEIG/1er/ISD/TP1_ISD_SA2023.ipynb#X20sZmlsZQ%3D%3D?line=38'>39</a>\u001b[0m a, b \u001b[39m=\u001b[39m params\n",
      "File \u001b[1;32mc:\\Users\\natha\\anaconda3\\envs\\isd\\lib\\site-packages\\scipy\\optimize\\_minpack_py.py:963\u001b[0m, in \u001b[0;36mcurve_fit\u001b[1;34m(f, xdata, ydata, p0, sigma, absolute_sigma, check_finite, bounds, method, jac, full_output, nan_policy, **kwargs)\u001b[0m\n\u001b[0;32m    960\u001b[0m \u001b[39mif\u001b[39;00m ydata\u001b[39m.\u001b[39msize \u001b[39m!=\u001b[39m \u001b[39m1\u001b[39m \u001b[39mand\u001b[39;00m n \u001b[39m>\u001b[39m ydata\u001b[39m.\u001b[39msize:\n\u001b[0;32m    961\u001b[0m     \u001b[39mraise\u001b[39;00m \u001b[39mTypeError\u001b[39;00m(\u001b[39mf\u001b[39m\u001b[39m\"\u001b[39m\u001b[39mThe number of func parameters=\u001b[39m\u001b[39m{\u001b[39;00mn\u001b[39m}\u001b[39;00m\u001b[39m must not\u001b[39m\u001b[39m\"\u001b[39m\n\u001b[0;32m    962\u001b[0m                     \u001b[39mf\u001b[39m\u001b[39m\"\u001b[39m\u001b[39m exceed the number of data points=\u001b[39m\u001b[39m{\u001b[39;00mydata\u001b[39m.\u001b[39msize\u001b[39m}\u001b[39;00m\u001b[39m\"\u001b[39m)\n\u001b[1;32m--> 963\u001b[0m res \u001b[39m=\u001b[39m leastsq(func, p0, Dfun\u001b[39m=\u001b[39mjac, full_output\u001b[39m=\u001b[39m\u001b[39m1\u001b[39m, \u001b[39m*\u001b[39m\u001b[39m*\u001b[39mkwargs)\n\u001b[0;32m    964\u001b[0m popt, pcov, infodict, errmsg, ier \u001b[39m=\u001b[39m res\n\u001b[0;32m    965\u001b[0m ysize \u001b[39m=\u001b[39m \u001b[39mlen\u001b[39m(infodict[\u001b[39m'\u001b[39m\u001b[39mfvec\u001b[39m\u001b[39m'\u001b[39m])\n",
      "File \u001b[1;32mc:\\Users\\natha\\anaconda3\\envs\\isd\\lib\\site-packages\\scipy\\optimize\\_minpack_py.py:415\u001b[0m, in \u001b[0;36mleastsq\u001b[1;34m(func, x0, args, Dfun, full_output, col_deriv, ftol, xtol, gtol, maxfev, epsfcn, factor, diag)\u001b[0m\n\u001b[0;32m    413\u001b[0m \u001b[39mif\u001b[39;00m \u001b[39mnot\u001b[39;00m \u001b[39misinstance\u001b[39m(args, \u001b[39mtuple\u001b[39m):\n\u001b[0;32m    414\u001b[0m     args \u001b[39m=\u001b[39m (args,)\n\u001b[1;32m--> 415\u001b[0m shape, dtype \u001b[39m=\u001b[39m _check_func(\u001b[39m'\u001b[39;49m\u001b[39mleastsq\u001b[39;49m\u001b[39m'\u001b[39;49m, \u001b[39m'\u001b[39;49m\u001b[39mfunc\u001b[39;49m\u001b[39m'\u001b[39;49m, func, x0, args, n)\n\u001b[0;32m    416\u001b[0m m \u001b[39m=\u001b[39m shape[\u001b[39m0\u001b[39m]\n\u001b[0;32m    418\u001b[0m \u001b[39mif\u001b[39;00m n \u001b[39m>\u001b[39m m:\n",
      "File \u001b[1;32mc:\\Users\\natha\\anaconda3\\envs\\isd\\lib\\site-packages\\scipy\\optimize\\_minpack_py.py:25\u001b[0m, in \u001b[0;36m_check_func\u001b[1;34m(checker, argname, thefunc, x0, args, numinputs, output_shape)\u001b[0m\n\u001b[0;32m     23\u001b[0m \u001b[39mdef\u001b[39;00m \u001b[39m_check_func\u001b[39m(checker, argname, thefunc, x0, args, numinputs,\n\u001b[0;32m     24\u001b[0m                 output_shape\u001b[39m=\u001b[39m\u001b[39mNone\u001b[39;00m):\n\u001b[1;32m---> 25\u001b[0m     res \u001b[39m=\u001b[39m atleast_1d(thefunc(\u001b[39m*\u001b[39;49m((x0[:numinputs],) \u001b[39m+\u001b[39;49m args)))\n\u001b[0;32m     26\u001b[0m     \u001b[39mif\u001b[39;00m (output_shape \u001b[39mis\u001b[39;00m \u001b[39mnot\u001b[39;00m \u001b[39mNone\u001b[39;00m) \u001b[39mand\u001b[39;00m (shape(res) \u001b[39m!=\u001b[39m output_shape):\n\u001b[0;32m     27\u001b[0m         \u001b[39mif\u001b[39;00m (output_shape[\u001b[39m0\u001b[39m] \u001b[39m!=\u001b[39m \u001b[39m1\u001b[39m):\n",
      "File \u001b[1;32mc:\\Users\\natha\\anaconda3\\envs\\isd\\lib\\site-packages\\scipy\\optimize\\_minpack_py.py:507\u001b[0m, in \u001b[0;36m_lightweight_memoizer.<locals>._memoized_func\u001b[1;34m(params)\u001b[0m\n\u001b[0;32m    504\u001b[0m \u001b[39mif\u001b[39;00m np\u001b[39m.\u001b[39mall(_memoized_func\u001b[39m.\u001b[39mlast_params \u001b[39m==\u001b[39m params):\n\u001b[0;32m    505\u001b[0m     \u001b[39mreturn\u001b[39;00m _memoized_func\u001b[39m.\u001b[39mlast_val\n\u001b[1;32m--> 507\u001b[0m val \u001b[39m=\u001b[39m f(params)\n\u001b[0;32m    509\u001b[0m \u001b[39mif\u001b[39;00m _memoized_func\u001b[39m.\u001b[39mlast_params \u001b[39mis\u001b[39;00m \u001b[39mNone\u001b[39;00m:\n\u001b[0;32m    510\u001b[0m     _memoized_func\u001b[39m.\u001b[39mlast_params \u001b[39m=\u001b[39m np\u001b[39m.\u001b[39mcopy(params)\n",
      "File \u001b[1;32mc:\\Users\\natha\\anaconda3\\envs\\isd\\lib\\site-packages\\scipy\\optimize\\_minpack_py.py:523\u001b[0m, in \u001b[0;36m_wrap_func.<locals>.func_wrapped\u001b[1;34m(params)\u001b[0m\n\u001b[0;32m    522\u001b[0m \u001b[39mdef\u001b[39;00m \u001b[39mfunc_wrapped\u001b[39m(params):\n\u001b[1;32m--> 523\u001b[0m     \u001b[39mreturn\u001b[39;00m func(xdata, \u001b[39m*\u001b[39;49mparams) \u001b[39m-\u001b[39;49m ydata\n",
      "\u001b[1;31mValueError\u001b[0m: operands could not be broadcast together with shapes (184,) (54,) "
     ]
    }
   ],
   "source": [
    "import random # -> random.fonction() pour utiliser une fonction\n",
    "from random import randrange # -> randrange() pour utiliser la fonction \n",
    "from random import randint   # -> randint() pour utiliser la fonction\n",
    "\n",
    "# 1\n",
    "liste_randint = [random.randint(1, 1000) for _ in range(1000000)]\n",
    "len(liste_randint)\n",
    "\n",
    "\n",
    "# 2\n",
    "liste_range = list(range(1, 1000001))\n",
    "len(liste_range)\n",
    "\n",
    "# 3\n",
    "\n",
    "liste = random.choices(range(1, 11), k=1000000)\n",
    "\n",
    "\n",
    "len(liste)\n",
    "\n",
    "\n",
    "\n",
    "import numpy as np\n",
    "from scipy.optimize import curve_fit\n",
    "import matplotlib.pyplot as plt\n",
    "\n",
    "# Données fournies\n",
    "x = np.array([-100, -99, -98, -97, -96, -95, -94, -93, -92, -91, -90, -89, -88, -87, -86, -85, -84, -83, -82, -81, -80, -79, -78, -77, -76, -75, -74, -73, -72, -71, -70, -69, -68, -67, -66, -65, -64, -63, -62, -61, -60, -59, -58, -57, -56, -55, -54, -53, -52, -51, -50, -49, -48, -47, -46, -45, -44, -43, -42, -41, -40, -39, -38, -37, -36, -35, -34, -33, -32, -31, -30, -29, -28, -27, -26, -25, -24, -23, -22, -21, -20, -19, -18, -17, -16, -15, -14, -13, -12, -11, -10, -9, -8, -7, -6, -5, -4, -3, -2, -1, 0, 1, 2, 3, 4, 5, 6, 7, 8, 9, 10, 11, 12, 13, 14, 15, 16, 17, 18, 19, 20, 21, 22, 23, 24, 25, 26, 27, 28, 29, 30, 31, 32, 33, 34, 35, 36, 37, 38, 39, 40, 41, 42, 43, 44, 45, 46, 47, 48, 49, 50, 51, 52, 53, 54, 55, 56, 57, 58, 59, 60, 61, 62, 63, 64, 65, 66, 67, 68, 69, 70, 71, 72, 73, 74, 75, 76, 77, 78, 79, 80, 81, 82, 83, 84, 85, 86, 87, 88, 89, 90, 91, 92, 93, 94, 95, 96, 97, 98, 99, 100])\n",
    "iterations = np.array([171, 170, 168, 166, 165, 163, 161, 160, 158, 156, 155, 153, 151, 150, 148, 146, 145, 143, 141, 140, 138, 136, 135, 133, 131, 130, 128, 126, 125, 123, 121, 120, 118, 116, 115, 113, 111, 110, 108, 106, 105, 103, 101, 100, 98, 96, 95, 93, 91, 90, 88, 86, 85, 83, 82, 80, 78, 77, 75, 73, 72, 70, 68, 67, 65, 63, 62, 60, 58, 57, 55, 53, 52, 50, 48, 47, 45, 43, 42, 40, 38, 37, 35, 33, 32, 30, 28, 27, 25, 23, 22, 20, 18, 17, 15, 13, 12, 10, 8, 7, 5, 5, 6, 8, 10, 11, 13, 15, 16, 18, 20, 21, 23, 25, 26, 28, 30, 31, 33, 35, 36, 38, 40, 41, 43, 45, 46, 48, 50, 51, 53, 55, 56, 58, 60, 61, 63, 65, 66, 68, 70, 71, 73, 75, 76, 78, 80, 81, 83, 84, 86, 88, 89, 91, 93, 94, 96, 98, 99, 101, 103, 104, 106, 108, 109, 111, 113, 114, 116, 118, 119, 121, 123, 124, 126, 128, 129, 131, 133, 134, 136, 138, 139, 141, 143, 144, 146, 148, 149, 151, 153, 154, 156, 158, 159, 161, 163, 164, 166, 168, 169])\n",
    "\n",
    "# Fonction logarithmique pour la régression\n",
    "def logarithmic_function(x, a, b):\n",
    "    return a * np.log10(x) + b\n",
    "\n",
    "# Effectuer la régression\n",
    "params, covariance = curve_fit(logarithmic_function, x, iterations)\n",
    "\n",
    "# Récupérer les coefficients a et b\n",
    "a, b = params\n",
    "\n",
    "# Créer un graphique pour vérifier l'ajustement\n",
    "plt.scatter(x, iterations, label='Données')\n",
    "x_fit = np.linspace(1, 1e9, 1000)\n",
    "y_fit = logarithmic_function(x_fit, a, b)\n",
    "plt.plot(x_fit, y_fit, 'r', label='Approximation')\n",
    "plt.xscale('log')\n",
    "plt.xlabel('Valeur de x (échelle logarithmique)')\n",
    "plt.ylabel('Nombre d\\'itérations')\n",
    "plt.legend()\n",
    "plt.show()\n",
    "\n",
    "print(\"Coefficient a:\", a)\n",
    "print(\"Coefficient b:\", b)\n"
   ]
  },
  {
   "cell_type": "markdown",
   "id": "dac57497",
   "metadata": {},
   "source": [
    "___\n",
    "\n",
    "### Exercices 1.2.3\n",
    "\n",
    "**1)** Reprenez votre code de ci-dessus qui génère une liste contenant un million de valeurs entières aléatoires entre 1 et 10 (y compris) et calculez le pourcentage de valeurs paires dans cette liste. Pour le faire, créez une seconde liste ne contenant que les valeurs paires. \n",
    "\n",
    "Enfin, affichez le résultat en le formattant à l'aide des très pratiques f-string python qui permettent un formattage rapide et simple. Le site geeksforgeeks fournit tout un tas de petits articles et tutos sur plusieurs langages de programmation, comme [ici](https://www.geeksforgeeks.org/formatted-string-literals-f-strings-python/) pour les f-strings python. \n",
    " \n"
   ]
  },
  {
   "cell_type": "code",
   "execution_count": 4,
   "id": "6e491354",
   "metadata": {},
   "outputs": [
    {
     "name": "stdout",
     "output_type": "stream",
     "text": [
      "Pourcentage de chiffres pairs : 44.44515\n"
     ]
    }
   ],
   "source": [
    "import random\n",
    "\n",
    "liste_chiffres = random.choices(range(1, 11), k=10000000)\n",
    "\n",
    "# Comptage des chiffres pairs\n",
    "chiffres_pairs = [chiffre for chiffre in liste_chiffres if chiffre % 2 == 0]\n",
    "\n",
    "# Calcul du pourcentage de chiffres pairs\n",
    "pourcentage_pairs = (len(chiffres_pairs) / len(liste_chiffres)) * 100\n",
    "\n",
    "# Affichage du résultat\n",
    "print(\"Pourcentage de chiffres pairs :\", pourcentage_pairs)\n",
    "\n",
    "\n"
   ]
  },
  {
   "cell_type": "markdown",
   "id": "db77d409",
   "metadata": {},
   "source": [
    "___\n",
    "### Exemple - Plusieurs manières de faire\n",
    "\n",
    "\n",
    "La liste est une des structure de données que vous allez régulièrement utiliser. Regarder rapidement le chapitre sur les listes dans [la doc](https://www.w3schools.com/python/python_lists.asp) et n'hésitez pas à refaire rapidement quelques exercices sur le site [w3school](https://www.w3schools.com/python/exercise.asp). \n",
    "\n",
    "\n",
    "Voici plusieures manières de faire pour écrire un script qui utilise les compréhensions de listes Python pour imprimer les carrés des entiers impairs plus petits ou égales à 10 et les carrés des entiers pairs plus grands que 10, mais plus petits que 21. \n",
    " \n",
    " C’est à dire : ```[1, 9, 25, 49, 81, 144, 196, 256, 324, 400]```\n",
    " \n"
   ]
  },
  {
   "cell_type": "code",
   "execution_count": 13,
   "id": "c7a99726",
   "metadata": {},
   "outputs": [
    {
     "data": {
      "text/plain": [
       "[1, 9, 25, 49, 81, 144, 196, 256, 324, 400]"
      ]
     },
     "execution_count": 13,
     "metadata": {},
     "output_type": "execute_result"
    }
   ],
   "source": [
    "# solution 1\n",
    "\n",
    "# Peut provoquer l'erreur \"List object not callable\" de manière inexpliquée. Commentez la ligne si c'est le cas !\n",
    "\n",
    "[x**2 for x in (list(range(1, 11, 2)) + list(range(12, 21, 2)))]"
   ]
  },
  {
   "cell_type": "code",
   "execution_count": 14,
   "id": "90b6d0b9",
   "metadata": {},
   "outputs": [
    {
     "data": {
      "text/plain": [
       "[1, 9, 25, 49, 81, 144, 196, 256, 324, 400]"
      ]
     },
     "execution_count": 14,
     "metadata": {},
     "output_type": "execute_result"
    }
   ],
   "source": [
    "# solution 2\n",
    "\n",
    "[x**2 for x in range(1, 21) if (((x <= 10) and (x % 2 != 0)) or ((x > 10) and (x % 2 == 0)))]"
   ]
  },
  {
   "cell_type": "code",
   "execution_count": 12,
   "id": "1b4d95a3",
   "metadata": {},
   "outputs": [
    {
     "data": {
      "text/plain": [
       "[1, 9, 25, 49, 81, 144, 196, 256, 324, 400]"
      ]
     },
     "execution_count": 12,
     "metadata": {},
     "output_type": "execute_result"
    }
   ],
   "source": [
    "# solution 3\n",
    "\n",
    "[x**2 for x in range(1, 11, 2)] + [x**2 for x in range(12, 21, 2)]"
   ]
  },
  {
   "cell_type": "markdown",
   "id": "4d7fa881",
   "metadata": {},
   "source": [
    "_____\n",
    "\n",
    "### Exercice 1.2.4 - Description du code\n",
    "\n",
    "Décrivez avec vos mots et l'aide de la documentation les trois façon de faire décrites ci-dessus, leur différences et les fonctions utilisées. \n",
    "\n",
    "Ce qu'on attend c'est que vous montriez que vous avez bien compris la logique de ces différentes façon de faire, donc décrivez soigneusement les méthodes. E.g.: \"la méthode 1 compte d'abord le nombre de fraises avant de les ajouter aux listes puis concatène les deux listes, alors que la méthode 6 créé directement une liste en... \" "
   ]
  },
  {
   "cell_type": "markdown",
   "id": "a783a15a",
   "metadata": {},
   "source": [
    "<div class=\"alert alert-block alert-info\">\n",
    "<b>Réponses:</b> écrivez vos réponses textuelles dans les cases markdown indiquée par un \"<i>Réponse:</i>\". Double-cliquez et complétez la cellule. Veillez à par exemple, bien laisser plusieurs retours à la ligne pour que ceux-ci soient pris en compte. Exécutez la cellule pour voir le résultat et ainsi rendre un labo lisible et propre (pour les suivants) !\n",
    "</div>\n"
   ]
  },
  {
   "cell_type": "markdown",
   "id": "bb0751f4",
   "metadata": {},
   "source": [
    "*Réponse*:\n",
    "\n"
   ]
  },
  {
   "cell_type": "markdown",
   "id": "be79285e",
   "metadata": {},
   "source": [
    "### Exercice 1.2.5 - liste de strings avec condition\n",
    "\n",
    "A partir de la liste \"objets\" donnée ci-dessous, créez une liste contenant uniquement les mots de la première liste qui **contiennent** la lettre \"z\" **ou** \"Z\". Il y a plusieurs méthodes possibles, à la fin vous devriez obtenir une liste contenant 3 mots. "
   ]
  },
  {
   "cell_type": "code",
   "execution_count": 20,
   "id": "f1ae7d18",
   "metadata": {},
   "outputs": [
    {
     "name": "stdout",
     "output_type": "stream",
     "text": [
      "['Zoo', 'Zebre', 'Jazz']\n"
     ]
    }
   ],
   "source": [
    "objets = [\"Canicule\",\n",
    "          \"Zoo\",\n",
    "          \"Prix béton 1981\",\n",
    "          \"Pancréas\",\n",
    "          \"Zebre\",\n",
    "          \"Jazz\",\n",
    "          \"Yverdon-les-Bains\"]\n",
    "\n",
    "\n",
    "# Votre code:\n",
    "mots_contenant_z = [mot for mot in objets if \"z\" in mot.lower()]\n",
    "\n",
    "# Afficher la liste résultante\n",
    "print(mots_contenant_z)\n"
   ]
  },
  {
   "cell_type": "markdown",
   "id": "d80cb548",
   "metadata": {},
   "source": [
    "## 1.3 Les notebooks Jupyter\n",
    "\n",
    "Les notebook Jupyter sont à la fois une application Web interactive dans laquelle on peut **Ecrire et Exécuter** du code dans des cellules de type \"code\" mais aussi **Documenter** ses expériences grâce des cellules \"Markdown\". Le Markdown offre une syntax très simple à lire et à écrire pour mettre en page les documents. Il est aussi possible, dans les cellules de type Markdown, d'écrire des équations grâce au langage $ \\LaTeX $. \n",
    "\n",
    "\n",
    "### Exercice\n",
    "\n",
    "Lisez attentivement la donnée ci-dessous et testez par vous  même l'utilisation des différents éléments. Explorez les menus et les raccourcis. \n",
    "\n",
    "----\n",
    "\n",
    "#### Édition et exécution des cellules. Exploration des menus. \n",
    "\n",
    "Pour afficher le contenu original d'une cellule Markdown (par exemple celle-ci), double-cliquez dessus. Cela va afficher le Markdown non interprété. Exécutez la cellule pour en afficher le contenu interprété (sélectionnez la cellule puis appuyer sur \"> Run\" en haut de la page ou faites *ctrl+Enter*). Pour les cellules python c'est la même chose. Vous pouvez changer le type d'une cellule avec le menu déroulant de la barre d'outils, ou à l'aide des raccourcis (escape pour sortir de l'édition puis M ou Y).\n",
    "\n",
    "Etant donné que vous séparez votre code en plusieurs cellules, il peut être utile de tout réexécuter dans l'ordre. Pour cela vous avez différentes options dans les menus \"**Cell**\" et \"**Kernel**\". \n",
    "    \n",
    "**Avant de rendre un notebook, allez dans le menu \"Kernel\" et sélectionnez \"Restart and run all\". Ceci vous permetra de voir les problèmes tels qu'une variable utilisée avant d'être déclarée, ce qui peut arriver facilement lorsque le code est séparés en cellules.**\n",
    "\n",
    "\n",
    "#### Google Colab\n",
    "\n",
    "_En cas de problème avec votre environnement anaconda ou votre notebook, vous pouvez utiliser [Google Colab](https://colab.research.google.com/) pour créer et exécuter vos notebooks. Cependant, l'environnement virtuel étant supprimé après un certain laps de temps, vous devrez uploader vos fichiers à chaque fois, rendant cette solution peu pratique lorsqu'on utilise des fichiers locaux. (le notebook.ipynb peut être accessible depuis votre Google Drive. Vous devez avoir un compte Google._"
   ]
  },
  {
   "cell_type": "markdown",
   "id": "04eee27c",
   "metadata": {},
   "source": [
    "#### Magic commands\n",
    "\n",
    "Jupyter fournit des [commandes spéciales](https://ipython.readthedocs.io/en/stable/interactive/magics.html) pour les cellules \"code\", précédées par \"%\" pour les commandes concernant une seule ligne, et \"%%\" pour les commandes concernant une cellule entière. Vous pouvez jeter un oeil à [cet article](https://www.aboutdatablog.com/post/top-8-magic-commands-in-jupyter-notebook) qui montre quelques une des commandes les plus utilisées. \n",
    "\n",
    "Vous serez sûrement confrontés à deux de ces commandes: \n",
    "\n",
    "- *%%timeit*, qui permet de mesurer le temps d'exécution d'une cellule, en l'exécutant plusieurs fois et en retournant une moyenne. Petit exemple ci-dessous.\n",
    "- **Par defaut maintenant, les graphiques s'affichent dans le notebook dans la sortie de la cellule concernée sans devoir utiliser la commande *%matplotlib inline*. ~~*%matplotlib inline*, qui permet l'affichage des graphiques dans le notebook, et non comme un fichier image ouvert séparément. Cette commande n'est plus nécessaire mais vous risquez de la rencontrer.~~\n",
    "\n",
    "\n"
   ]
  },
  {
   "cell_type": "code",
   "execution_count": 23,
   "id": "bd6568a6",
   "metadata": {
    "scrolled": true
   },
   "outputs": [
    {
     "name": "stdout",
     "output_type": "stream",
     "text": [
      "1000000\n",
      "1000000\n",
      "1000000\n",
      "1000000\n",
      "1000000\n",
      "1000000\n",
      "1000000\n",
      "1000000\n",
      "1000000\n",
      "1000000\n",
      "1000000\n",
      "1000000\n",
      "1000000\n",
      "1000000\n",
      "1000000\n",
      "1000000\n",
      "1000000\n",
      "1000000\n",
      "1000000\n",
      "1000000\n",
      "1000000\n",
      "1000000\n",
      "1000000\n",
      "1000000\n",
      "1000000\n",
      "1000000\n",
      "1000000\n",
      "1000000\n",
      "1000000\n",
      "1000000\n",
      "1000000\n",
      "1000000\n",
      "1000000\n",
      "1000000\n",
      "1000000\n",
      "1000000\n",
      "1000000\n",
      "1000000\n",
      "1000000\n",
      "1000000\n",
      "1000000\n",
      "1000000\n",
      "1000000\n",
      "1000000\n",
      "1000000\n",
      "1000000\n",
      "1000000\n",
      "1000000\n",
      "1000000\n",
      "1000000\n",
      "1000000\n",
      "1000000\n",
      "1000000\n",
      "1000000\n",
      "1000000\n",
      "1000000\n",
      "1000000\n",
      "1000000\n",
      "1000000\n",
      "1000000\n",
      "1000000\n",
      "1000000\n",
      "1000000\n",
      "1000000\n",
      "1000000\n",
      "1000000\n",
      "1000000\n",
      "1000000\n",
      "1000000\n",
      "1000000\n",
      "1000000\n",
      "1000000\n",
      "1000000\n",
      "1000000\n",
      "1000000\n",
      "1000000\n",
      "1000000\n",
      "1000000\n",
      "1000000\n",
      "1000000\n",
      "1000000\n",
      "50.7 ms ± 1.45 ms per loop (mean ± std. dev. of 7 runs, 10 loops each)\n"
     ]
    }
   ],
   "source": [
    "%%timeit\n",
    "\n",
    "# Exemple avec %%timeit, qui doit être au début de la cellule\n",
    "\n",
    "\n",
    "\n",
    "j = 0\n",
    "for i in range(1000000):\n",
    "    j += 1\n",
    "\n",
    "print(j) # Notez qu'en cas d'affichage, il sera affiché autant de fois que la cellule est exécutée (ça prend de la place !)"
   ]
  },
  {
   "cell_type": "markdown",
   "id": "53de611d",
   "metadata": {},
   "source": [
    "___________"
   ]
  },
  {
   "cell_type": "markdown",
   "id": "53c682ec",
   "metadata": {},
   "source": [
    "_____\n",
    "\n",
    "# Partie 2: NumPy\n",
    "\n",
    "NumPy, pour Numerical Python, est une librairie permettant les calculs sur les matrices (tableaux multidimensionnels) de données. Elle est la base d'autres librairies spécialisées dans le calcul scientifique comme Scipy ou MatPlotlib par exemple, que nous allons régulièrement utiliser dans ce cours.  \n",
    "\n",
    "\n",
    "Afin de vous familiariser avec NumPy, suivez le tuto sur le site [w3schools](https://www.w3schools.com/python/numpy/default.asp). On vous demande de faire la partie \"Basics\" pour le moment et de répondre aux questions ci-dessous, basées sur ce tutoriel. Le tutoriel comprend des exercices accessibles dans les différentes sections du tutoriel concernées, ou directement [ici](https://www.w3schools.com/python/numpy/exercise.asp).\n",
    "\n",
    "N'oubliez pas d'installer NumPy dans votre environnement afin qu'il soit utilisable (import) dans votre notebook. "
   ]
  },
  {
   "cell_type": "markdown",
   "id": "00687f5d",
   "metadata": {},
   "source": [
    "## Questions NumPy\n",
    "\n",
    "1) En un mot: pourquoi utiliser NumPy au lieu des listes de base python ?\n",
    "\n",
    "Réponse:\n",
    "\n",
    "\n",
    "2) Comment s'appelle (n.b. \"de quel type est\") l'objet \"array\" dans NumPy et que signifie son nom ?\n",
    "\n",
    "Réponse:\n",
    "\n",
    "\n",
    "3) Pourquoi utiliser NumPy est-il plus rapide qu'utiliser les listes de base python ?\n",
    "\n",
    "Réponse: \n",
    "\n",
    "\n",
    "4) A quelle question le code \"# Question 4\" ci-dessous répond-il ?\n",
    "\n",
    "Réponse:\n",
    "\n"
   ]
  },
  {
   "cell_type": "code",
   "execution_count": 24,
   "id": "97ef65dd",
   "metadata": {},
   "outputs": [
    {
     "name": "stdout",
     "output_type": "stream",
     "text": [
      "<class 'numpy.ndarray'>\n"
     ]
    }
   ],
   "source": [
    "# QUESTION 4\n",
    "\n",
    "# INFO: Lorsque vous démarrez votre environnement vous n'avez besoin d'importer les modules qu'une seule fois. \n",
    "# les fonctions du module sont alors disponibles.\n",
    "\n",
    "import numpy as np \n",
    "\n",
    "arr = np.array([1, 2, 3, 4, 5])\n",
    "\n",
    "print(type(arr))"
   ]
  },
  {
   "cell_type": "markdown",
   "id": "fa8fd4f2",
   "metadata": {},
   "source": [
    "5) Affichez la somme des deux derniers éléments du tableau en y accédant de deux manières différentes. Une fois depuis le début, et une fois depuis la fin (indexation)."
   ]
  },
  {
   "cell_type": "code",
   "execution_count": 3,
   "id": "63d7c5f0",
   "metadata": {},
   "outputs": [
    {
     "name": "stdout",
     "output_type": "stream",
     "text": [
      "9\n",
      "9\n"
     ]
    },
    {
     "data": {
      "image/png": "[encoded data removed]",
      "text/plain": [
       "<Figure size 640x480 with 1 Axes>"
      ]
     },
     "metadata": {},
     "output_type": "display_data"
    },
    {
     "name": "stdout",
     "output_type": "stream",
     "text": [
      "Coefficient a: 2.0723942419315935\n",
      "Coefficient b: -0.32618743953606266\n"
     ]
    }
   ],
   "source": [
    "## Code à compléter: ##\n",
    "import numpy as np \n",
    "arr = np.array([1, 2, 3, 4, 5])\n",
    "\n",
    "print(arr[3]+arr[4])\n",
    "print(arr[ - 2]+arr[- 1])\n",
    "import numpy as np\n",
    "from scipy.optimize import curve_fit\n",
    "import matplotlib.pyplot as plt\n",
    "\n",
    "# Données fournies\n",
    "x = np.array([1, 2,3,4, 5, 10, 100, 1000, 10000, 100000, 1000000, 10000000, 100000000, 1000000000])\n",
    "iterations = np.array([0, 0,0,0, 1, 2, 4, 7, 9, 10, 12, 14, 16, 18])\n",
    "\n",
    "# Fonction logarithmique pour la régression\n",
    "def logarithmic_function(x, a, b):\n",
    "    return a * np.log10(x) + b\n",
    "\n",
    "# Effectuer la régression\n",
    "params, covariance = curve_fit(logarithmic_function, x, iterations)\n",
    "\n",
    "# Récupérer les coefficients a et b\n",
    "a, b = params\n",
    "\n",
    "# Créer un graphique pour vérifier l'ajustement\n",
    "plt.scatter(x, iterations, label='Données')\n",
    "x_fit = np.linspace(1, 1e9, 1000)\n",
    "y_fit = logarithmic_function(x_fit, a, b)\n",
    "plt.plot(x_fit, y_fit, 'r', label='Approximation')\n",
    "plt.xscale('log')\n",
    "plt.xlabel('Valeur de x (échelle logarithmique)')\n",
    "plt.ylabel('Nombre d\\'itérations')\n",
    "plt.legend()\n",
    "plt.show()\n",
    "\n",
    "print(\"Coefficient a:\", a)\n",
    "print(\"Coefficient b:\", b)\n"
   ]
  },
  {
   "cell_type": "markdown",
   "id": "ae61cc17",
   "metadata": {},
   "source": [
    "______\n",
    "\n",
    "# Partie 3: Introduction à Pandas\n",
    "\n",
    "Pour analyser des données, il va nous falloir un peu plus que des tableaux desquels on additionne les deux derniers nombres. C'est ici que commence le travail de Pandas. Pandas est un package Python, construit sur NumPy qui va nous permettre de charger, nettoyer, compléter, fusionner, visualiser, normaliser nos données, et encore bien d'autre. Pour faire très simple, on ajoute des noms et des types (entiers, flotants, textes, facteurs,...) aux colonnes de nos tableaux, et on joue avec. Le type de données principal auquel on va être confronté est \"DataFrame\". Pour vous familiariser avec ce nouveau package, suivez le tutoriel de [w3schools](https://www.w3schools.com/python/pandas/default.asp). Le tutoriel est relativement court, vous pouvez donc rapidement faire toutes les sections pour vous faire une idée de la faune de fonctions disponibles. \n",
    "\n",
    "## Questions Pandas\n",
    "\n",
    "\n"
   ]
  },
  {
   "cell_type": "markdown",
   "id": "a43e384f",
   "metadata": {},
   "source": [
    "**1) Pourquoi utiliser Pandas ?**\n",
    "\n",
    "Réponse: \n",
    "Pandas nous permet d'analyser des données volumineuses et de tirer des conclusions basées sur des théories statistiques.\n",
    "\n",
    "Pandas peut nettoyer des ensembles de données désordonnés et les rendre lisibles et pertinents.\n",
    "\n",
    "Les données pertinentes sont très importantes dans la science des données.\n",
    "\n",
    "\n",
    "**2) Que peut faire pandas (d'après le tuto w3schools) ?**\n",
    "\n",
    "Réponse: \n",
    "Pandas vous donne des réponses sur les données. Par exemple :\n",
    "\n",
    "Existe-t-il une corrélation entre deux colonnes ou plus ?\n",
    "Quelle est la valeur moyenne ?\n",
    "La valeur maximale ?\n",
    "La valeur minimale ?\n",
    "Les Pandas sont également capables de supprimer les lignes qui ne sont pas pertinentes ou qui contiennent des valeurs erronées, comme des valeurs vides ou NULL. C'est ce qu'on appelle le nettoyage des données.\n",
    "\n",
    "**3) Que fait l'exemple \"Question 3\" ci-dessous ? Quels sont les types de données utilisés ?**\n",
    "\n",
    "Réponse: \n",
    "Un tableau de string et un autre de nombre\n",
    "\n",
    "**4) Compléter la cellule \"Question 4\" ci-dessous pour afficher les lignes demandées. Utiliser l'attribut *loc* comme décrit dans le tutoriel. Pour afficher les dernières colonnes, vous pouvez utiliser des indexes fixes qui ne fonctionnent qu'avec un dataframe de cette taille, ou essayer la fonction *iloc()* avec des indexes négatifs.** \n",
    "\n",
    "**Que remarquez vous concernant l'utilisation de simples crochets ([...]) ou doubles crochets ([[x]]) pour extraire _une_ ligne du dataframe ? En utilisant la fonction type(), donnez le type de données retournées avec les simples crochets ([...]) ou doubles crochets ([[x,y]]).**\n",
    "\n",
    "Réponse: \n",
    "\n",
    "**5) Complétez le code comme demandé dans la cellule \"Question 5 - exercice\". Extrait du tutoriel Pandas de w3school.**\n"
   ]
  },
  {
   "cell_type": "markdown",
   "id": "5016706b",
   "metadata": {},
   "source": [
    "____"
   ]
  },
  {
   "cell_type": "code",
   "execution_count": 19,
   "id": "6194e685",
   "metadata": {},
   "outputs": [
    {
     "name": "stdout",
     "output_type": "stream",
     "text": [
      "    cars  passings\n",
      "0    BMW         3\n",
      "1  Volvo         7\n",
      "2   Ford         2\n"
     ]
    }
   ],
   "source": [
    "# Question 3 \n",
    "\n",
    "import pandas as pd # manière commune d'importer Pandas, sous l'Alias \"pd\". \n",
    "\n",
    "mydataset = {\n",
    "  'cars': [\"BMW\", \"Volvo\", \"Ford\"],\n",
    "  'passings': [3, 7, 2]\n",
    "}\n",
    "\n",
    "myvar = pd.DataFrame(mydataset)\n",
    "\n",
    "print(myvar)\n"
   ]
  },
  {
   "cell_type": "code",
   "execution_count": 28,
   "id": "196370d2",
   "metadata": {},
   "outputs": [
    {
     "name": "stdout",
     "output_type": "stream",
     "text": [
      "    cars  passings\n",
      "1  Volvo         7\n",
      "---------------------\n",
      "    cars  passings\n",
      "1  Volvo         7\n",
      "2   Ford         2\n"
     ]
    }
   ],
   "source": [
    "# Question 4\n",
    "## Code à compléter ##\n",
    "import pandas as pd # manière commune d'importer Pandas, sous l'Alias \"pd\". \n",
    "\n",
    "mydataset = {\n",
    "  'cars': [\"BMW\", \"Volvo\", \"Ford\"],\n",
    "  'passings': [3, 7, 2]\n",
    "}\n",
    "\n",
    "myvar = pd.DataFrame(mydataset)\n",
    "# Afficher la ligne qui concerne les Volvo\n",
    "\n",
    "print(myvar.loc[myvar['cars'] == 'Volvo'])\n",
    "print(\"---------------------\")\n",
    "\n",
    "# Afficher les deux dernières lignes du dataframe\n",
    "print(myvar.tail(2))"
   ]
  },
  {
   "cell_type": "code",
   "execution_count": 41,
   "id": "e4f18092",
   "metadata": {},
   "outputs": [
    {
     "name": "stdout",
     "output_type": "stream",
     "text": [
      "    Duration          Date  Pulse  Maxpulse  Calories\n",
      "0         60  '2020/12/01'    110       130     409.1\n",
      "1         60  '2020/12/02'    117       145     479.0\n",
      "2         60  '2020/12/03'    103       135     340.0\n",
      "3         45  '2020/12/04'    109       175     282.4\n",
      "4         45  '2020/12/05'    117       148     406.0\n",
      "5         60  '2020/12/06'    102       127     300.0\n",
      "6         60  '2020/12/07'    110       136     374.0\n",
      "7        450  '2020/12/08'    104       134     253.3\n",
      "8         30  '2020/12/09'    109       133     195.1\n",
      "9         60  '2020/12/10'     98       124     269.0\n",
      "10        60  '2020/12/11'    103       147     329.3\n",
      "11        60  '2020/12/12'    100       120     250.7\n",
      "12        60  '2020/12/12'    100       120     250.7\n",
      "13        60  '2020/12/13'    106       128     345.3\n",
      "14        60  '2020/12/14'    104       132     379.3\n",
      "15        60  '2020/12/15'     98       123     275.0\n",
      "16        60  '2020/12/16'     98       120     215.2\n",
      "17        60  '2020/12/17'    100       120     300.0\n",
      "18        45  '2020/12/18'     90       112       NaN\n",
      "19        60  '2020/12/19'    103       123     323.0\n",
      "20        45  '2020/12/20'     97       125     243.0\n",
      "21        60  '2020/12/21'    108       131     364.2\n",
      "22        45           NaN    100       119     282.0\n",
      "23        60  '2020/12/23'    130       101     300.0\n",
      "24        45  '2020/12/24'    105       132     246.0\n",
      "25        60  '2020/12/25'    102       126     334.5\n",
      "26        60      20201226    100       120     250.0\n",
      "27        60  '2020/12/27'     92       118     241.0\n",
      "28        60  '2020/12/28'    103       132       NaN\n",
      "29        60  '2020/12/29'    100       132     280.0\n",
      "30        60  '2020/12/30'    102       129     380.3\n",
      "31        60  '2020/12/31'     92       115     243.0\n"
     ]
    },
    {
     "data": {
      "text/html": [
       "<div>\n",
       "<style scoped>\n",
       "    .dataframe tbody tr th:only-of-type {\n",
       "        vertical-align: middle;\n",
       "    }\n",
       "\n",
       "    .dataframe tbody tr th {\n",
       "        vertical-align: top;\n",
       "    }\n",
       "\n",
       "    .dataframe thead th {\n",
       "        text-align: right;\n",
       "    }\n",
       "</style>\n",
       "<table border=\"1\" class=\"dataframe\">\n",
       "  <thead>\n",
       "    <tr style=\"text-align: right;\">\n",
       "      <th></th>\n",
       "      <th>Duration</th>\n",
       "      <th>Date</th>\n",
       "      <th>Pulse</th>\n",
       "      <th>Maxpulse</th>\n",
       "      <th>Calories</th>\n",
       "    </tr>\n",
       "  </thead>\n",
       "  <tbody>\n",
       "    <tr>\n",
       "      <th>0</th>\n",
       "      <td>60</td>\n",
       "      <td>'2020/12/01'</td>\n",
       "      <td>110</td>\n",
       "      <td>130</td>\n",
       "      <td>409.1</td>\n",
       "    </tr>\n",
       "    <tr>\n",
       "      <th>1</th>\n",
       "      <td>60</td>\n",
       "      <td>'2020/12/02'</td>\n",
       "      <td>117</td>\n",
       "      <td>145</td>\n",
       "      <td>479.0</td>\n",
       "    </tr>\n",
       "    <tr>\n",
       "      <th>2</th>\n",
       "      <td>60</td>\n",
       "      <td>'2020/12/03'</td>\n",
       "      <td>103</td>\n",
       "      <td>135</td>\n",
       "      <td>340.0</td>\n",
       "    </tr>\n",
       "    <tr>\n",
       "      <th>3</th>\n",
       "      <td>45</td>\n",
       "      <td>'2020/12/04'</td>\n",
       "      <td>109</td>\n",
       "      <td>175</td>\n",
       "      <td>282.4</td>\n",
       "    </tr>\n",
       "    <tr>\n",
       "      <th>4</th>\n",
       "      <td>45</td>\n",
       "      <td>'2020/12/05'</td>\n",
       "      <td>117</td>\n",
       "      <td>148</td>\n",
       "      <td>406.0</td>\n",
       "    </tr>\n",
       "    <tr>\n",
       "      <th>5</th>\n",
       "      <td>60</td>\n",
       "      <td>'2020/12/06'</td>\n",
       "      <td>102</td>\n",
       "      <td>127</td>\n",
       "      <td>300.0</td>\n",
       "    </tr>\n",
       "    <tr>\n",
       "      <th>6</th>\n",
       "      <td>60</td>\n",
       "      <td>'2020/12/07'</td>\n",
       "      <td>110</td>\n",
       "      <td>136</td>\n",
       "      <td>374.0</td>\n",
       "    </tr>\n",
       "    <tr>\n",
       "      <th>7</th>\n",
       "      <td>450</td>\n",
       "      <td>'2020/12/08'</td>\n",
       "      <td>104</td>\n",
       "      <td>134</td>\n",
       "      <td>253.3</td>\n",
       "    </tr>\n",
       "    <tr>\n",
       "      <th>8</th>\n",
       "      <td>30</td>\n",
       "      <td>'2020/12/09'</td>\n",
       "      <td>109</td>\n",
       "      <td>133</td>\n",
       "      <td>195.1</td>\n",
       "    </tr>\n",
       "    <tr>\n",
       "      <th>9</th>\n",
       "      <td>60</td>\n",
       "      <td>'2020/12/10'</td>\n",
       "      <td>98</td>\n",
       "      <td>124</td>\n",
       "      <td>269.0</td>\n",
       "    </tr>\n",
       "    <tr>\n",
       "      <th>10</th>\n",
       "      <td>60</td>\n",
       "      <td>'2020/12/11'</td>\n",
       "      <td>103</td>\n",
       "      <td>147</td>\n",
       "      <td>329.3</td>\n",
       "    </tr>\n",
       "    <tr>\n",
       "      <th>11</th>\n",
       "      <td>60</td>\n",
       "      <td>'2020/12/12'</td>\n",
       "      <td>100</td>\n",
       "      <td>120</td>\n",
       "      <td>250.7</td>\n",
       "    </tr>\n",
       "    <tr>\n",
       "      <th>12</th>\n",
       "      <td>60</td>\n",
       "      <td>'2020/12/12'</td>\n",
       "      <td>100</td>\n",
       "      <td>120</td>\n",
       "      <td>250.7</td>\n",
       "    </tr>\n",
       "    <tr>\n",
       "      <th>13</th>\n",
       "      <td>60</td>\n",
       "      <td>'2020/12/13'</td>\n",
       "      <td>106</td>\n",
       "      <td>128</td>\n",
       "      <td>345.3</td>\n",
       "    </tr>\n",
       "    <tr>\n",
       "      <th>14</th>\n",
       "      <td>60</td>\n",
       "      <td>'2020/12/14'</td>\n",
       "      <td>104</td>\n",
       "      <td>132</td>\n",
       "      <td>379.3</td>\n",
       "    </tr>\n",
       "    <tr>\n",
       "      <th>15</th>\n",
       "      <td>60</td>\n",
       "      <td>'2020/12/15'</td>\n",
       "      <td>98</td>\n",
       "      <td>123</td>\n",
       "      <td>275.0</td>\n",
       "    </tr>\n",
       "    <tr>\n",
       "      <th>16</th>\n",
       "      <td>60</td>\n",
       "      <td>'2020/12/16'</td>\n",
       "      <td>98</td>\n",
       "      <td>120</td>\n",
       "      <td>215.2</td>\n",
       "    </tr>\n",
       "    <tr>\n",
       "      <th>17</th>\n",
       "      <td>60</td>\n",
       "      <td>'2020/12/17'</td>\n",
       "      <td>100</td>\n",
       "      <td>120</td>\n",
       "      <td>300.0</td>\n",
       "    </tr>\n",
       "    <tr>\n",
       "      <th>18</th>\n",
       "      <td>45</td>\n",
       "      <td>'2020/12/18'</td>\n",
       "      <td>90</td>\n",
       "      <td>112</td>\n",
       "      <td>NaN</td>\n",
       "    </tr>\n",
       "    <tr>\n",
       "      <th>19</th>\n",
       "      <td>60</td>\n",
       "      <td>'2020/12/19'</td>\n",
       "      <td>103</td>\n",
       "      <td>123</td>\n",
       "      <td>323.0</td>\n",
       "    </tr>\n",
       "    <tr>\n",
       "      <th>20</th>\n",
       "      <td>45</td>\n",
       "      <td>'2020/12/20'</td>\n",
       "      <td>97</td>\n",
       "      <td>125</td>\n",
       "      <td>243.0</td>\n",
       "    </tr>\n",
       "    <tr>\n",
       "      <th>21</th>\n",
       "      <td>60</td>\n",
       "      <td>'2020/12/21'</td>\n",
       "      <td>108</td>\n",
       "      <td>131</td>\n",
       "      <td>364.2</td>\n",
       "    </tr>\n",
       "    <tr>\n",
       "      <th>22</th>\n",
       "      <td>45</td>\n",
       "      <td>NaN</td>\n",
       "      <td>100</td>\n",
       "      <td>119</td>\n",
       "      <td>282.0</td>\n",
       "    </tr>\n",
       "    <tr>\n",
       "      <th>23</th>\n",
       "      <td>60</td>\n",
       "      <td>'2020/12/23'</td>\n",
       "      <td>130</td>\n",
       "      <td>101</td>\n",
       "      <td>300.0</td>\n",
       "    </tr>\n",
       "    <tr>\n",
       "      <th>24</th>\n",
       "      <td>45</td>\n",
       "      <td>'2020/12/24'</td>\n",
       "      <td>105</td>\n",
       "      <td>132</td>\n",
       "      <td>246.0</td>\n",
       "    </tr>\n",
       "    <tr>\n",
       "      <th>25</th>\n",
       "      <td>60</td>\n",
       "      <td>'2020/12/25'</td>\n",
       "      <td>102</td>\n",
       "      <td>126</td>\n",
       "      <td>334.5</td>\n",
       "    </tr>\n",
       "    <tr>\n",
       "      <th>26</th>\n",
       "      <td>60</td>\n",
       "      <td>20201226</td>\n",
       "      <td>100</td>\n",
       "      <td>120</td>\n",
       "      <td>250.0</td>\n",
       "    </tr>\n",
       "    <tr>\n",
       "      <th>27</th>\n",
       "      <td>60</td>\n",
       "      <td>'2020/12/27'</td>\n",
       "      <td>92</td>\n",
       "      <td>118</td>\n",
       "      <td>241.0</td>\n",
       "    </tr>\n",
       "    <tr>\n",
       "      <th>28</th>\n",
       "      <td>60</td>\n",
       "      <td>'2020/12/28'</td>\n",
       "      <td>103</td>\n",
       "      <td>132</td>\n",
       "      <td>NaN</td>\n",
       "    </tr>\n",
       "    <tr>\n",
       "      <th>29</th>\n",
       "      <td>60</td>\n",
       "      <td>'2020/12/29'</td>\n",
       "      <td>100</td>\n",
       "      <td>132</td>\n",
       "      <td>280.0</td>\n",
       "    </tr>\n",
       "    <tr>\n",
       "      <th>30</th>\n",
       "      <td>60</td>\n",
       "      <td>'2020/12/30'</td>\n",
       "      <td>102</td>\n",
       "      <td>129</td>\n",
       "      <td>380.3</td>\n",
       "    </tr>\n",
       "    <tr>\n",
       "      <th>31</th>\n",
       "      <td>60</td>\n",
       "      <td>'2020/12/31'</td>\n",
       "      <td>92</td>\n",
       "      <td>115</td>\n",
       "      <td>243.0</td>\n",
       "    </tr>\n",
       "  </tbody>\n",
       "</table>\n",
       "</div>"
      ],
      "text/plain": [
       "    Duration          Date  Pulse  Maxpulse  Calories\n",
       "0         60  '2020/12/01'    110       130     409.1\n",
       "1         60  '2020/12/02'    117       145     479.0\n",
       "2         60  '2020/12/03'    103       135     340.0\n",
       "3         45  '2020/12/04'    109       175     282.4\n",
       "4         45  '2020/12/05'    117       148     406.0\n",
       "5         60  '2020/12/06'    102       127     300.0\n",
       "6         60  '2020/12/07'    110       136     374.0\n",
       "7        450  '2020/12/08'    104       134     253.3\n",
       "8         30  '2020/12/09'    109       133     195.1\n",
       "9         60  '2020/12/10'     98       124     269.0\n",
       "10        60  '2020/12/11'    103       147     329.3\n",
       "11        60  '2020/12/12'    100       120     250.7\n",
       "12        60  '2020/12/12'    100       120     250.7\n",
       "13        60  '2020/12/13'    106       128     345.3\n",
       "14        60  '2020/12/14'    104       132     379.3\n",
       "15        60  '2020/12/15'     98       123     275.0\n",
       "16        60  '2020/12/16'     98       120     215.2\n",
       "17        60  '2020/12/17'    100       120     300.0\n",
       "18        45  '2020/12/18'     90       112       NaN\n",
       "19        60  '2020/12/19'    103       123     323.0\n",
       "20        45  '2020/12/20'     97       125     243.0\n",
       "21        60  '2020/12/21'    108       131     364.2\n",
       "22        45           NaN    100       119     282.0\n",
       "23        60  '2020/12/23'    130       101     300.0\n",
       "24        45  '2020/12/24'    105       132     246.0\n",
       "25        60  '2020/12/25'    102       126     334.5\n",
       "26        60      20201226    100       120     250.0\n",
       "27        60  '2020/12/27'     92       118     241.0\n",
       "28        60  '2020/12/28'    103       132       NaN\n",
       "29        60  '2020/12/29'    100       132     280.0\n",
       "30        60  '2020/12/30'    102       129     380.3\n",
       "31        60  '2020/12/31'     92       115     243.0"
      ]
     },
     "execution_count": 41,
     "metadata": {},
     "output_type": "execute_result"
    }
   ],
   "source": [
    "# Question 5 - données\n",
    "\n",
    "# On lit les données directement depuis l'url. Un path vers le fichier (local) irait aussi.\n",
    "df = pd.read_csv(\"https://www.w3schools.com/python/pandas/dirtydata.csv.txt\")\n",
    "\n",
    "# Affiche notre petit DataFrame, vous pouvez changer entre \"df\" et \"print(df)\". Le premier est \n",
    "#  interprété directement par Jupyter qui l'affiche de manière beaucoup plus lisible. \n",
    "print(df)\n",
    "df"
   ]
  },
  {
   "cell_type": "code",
   "execution_count": null,
   "id": "2de6babc",
   "metadata": {},
   "outputs": [],
   "source": []
  },
  {
   "cell_type": "code",
   "execution_count": 44,
   "id": "73591b71",
   "metadata": {},
   "outputs": [
    {
     "ename": "AttributeError",
     "evalue": "'DataFrame' object has no attribute 'to_datetime'",
     "output_type": "error",
     "traceback": [
      "\u001b[1;31m---------------------------------------------------------------------------\u001b[0m",
      "\u001b[1;31mAttributeError\u001b[0m                            Traceback (most recent call last)",
      "\u001b[1;32m~\\AppData\\Local\\Temp\\ipykernel_10288\\3313824283.py\u001b[0m in \u001b[0;36m?\u001b[1;34m()\u001b[0m\n\u001b[1;32m---> 16\u001b[1;33m \u001b[1;31m# Question 5 - exercice\u001b[0m\u001b[1;33m\u001b[0m\u001b[1;33m\u001b[0m\u001b[0m\n\u001b[0m\u001b[0;32m     17\u001b[0m \u001b[1;31m## Code à compléter et à copier dans le fichier TP1_ISD_SA2022_Reponses_Nom_Prenom.md ##\u001b[0m\u001b[1;33m\u001b[0m\u001b[1;33m\u001b[0m\u001b[0m\n\u001b[0;32m     18\u001b[0m \u001b[1;33m\u001b[0m\u001b[0m\n\u001b[0;32m     19\u001b[0m \u001b[1;31m# 1) Enlevez les données manquantes (NaN = Not a Number) et créez un nouveau dataframe appelé df_clean\u001b[0m\u001b[1;33m\u001b[0m\u001b[1;33m\u001b[0m\u001b[0m\n",
      "\u001b[1;32m~\\anaconda3\\envs\\isd\\lib\\site-packages\\pandas\\core\\generic.py\u001b[0m in \u001b[0;36m?\u001b[1;34m(self, name)\u001b[0m\n\u001b[0;32m   5985\u001b[0m             \u001b[1;32mand\u001b[0m \u001b[0mname\u001b[0m \u001b[1;32mnot\u001b[0m \u001b[1;32min\u001b[0m \u001b[0mself\u001b[0m\u001b[1;33m.\u001b[0m\u001b[0m_accessors\u001b[0m\u001b[1;33m\u001b[0m\u001b[1;33m\u001b[0m\u001b[0m\n\u001b[0;32m   5986\u001b[0m             \u001b[1;32mand\u001b[0m \u001b[0mself\u001b[0m\u001b[1;33m.\u001b[0m\u001b[0m_info_axis\u001b[0m\u001b[1;33m.\u001b[0m\u001b[0m_can_hold_identifiers_and_holds_name\u001b[0m\u001b[1;33m(\u001b[0m\u001b[0mname\u001b[0m\u001b[1;33m)\u001b[0m\u001b[1;33m\u001b[0m\u001b[1;33m\u001b[0m\u001b[0m\n\u001b[0;32m   5987\u001b[0m         ):\n\u001b[0;32m   5988\u001b[0m             \u001b[1;32mreturn\u001b[0m \u001b[0mself\u001b[0m\u001b[1;33m[\u001b[0m\u001b[0mname\u001b[0m\u001b[1;33m]\u001b[0m\u001b[1;33m\u001b[0m\u001b[1;33m\u001b[0m\u001b[0m\n\u001b[1;32m-> 5989\u001b[1;33m         \u001b[1;32mreturn\u001b[0m \u001b[0mobject\u001b[0m\u001b[1;33m.\u001b[0m\u001b[0m__getattribute__\u001b[0m\u001b[1;33m(\u001b[0m\u001b[0mself\u001b[0m\u001b[1;33m,\u001b[0m \u001b[0mname\u001b[0m\u001b[1;33m)\u001b[0m\u001b[1;33m\u001b[0m\u001b[1;33m\u001b[0m\u001b[0m\n\u001b[0m",
      "\u001b[1;31mAttributeError\u001b[0m: 'DataFrame' object has no attribute 'to_datetime'"
     ]
    }
   ],
   "source": [
    "# Question 5 - exercice\n",
    "## Code à compléter et à copier dans le fichier TP1_ISD_SA2022_Reponses_Nom_Prenom.md ##\n",
    "\n",
    "# 1) Enlevez les données manquantes (NaN = Not a Number) et créez un nouveau dataframe appelé df_clean \n",
    "#    (n.b ne changez pas le dataframe original, n'utilisez pas *inplace=True*)\n",
    "#    n'hésitez pas à utiliser \"print(df_clean)\" pour voir les changements, mais déplacez-le / commentez-le\n",
    "#    pour ne pas encombrer l'affichage de votre cellule !\n",
    "# Supprimer les lignes contenant des valeurs manquantes (NaN)\n",
    "df_clean = df.dropna()\n",
    "\n",
    "\n",
    "\n",
    "# 2) La ligne 26 contient une date au mauvais format. Pour cela nous allons convertir la colonne \"Date\".\n",
    "#    Attention a bien faire cette opération sur df_clean et non sur df (modifiez par rapport au tutoriel). \n",
    "#    En cas de Warnings, vous pouvez l'ignorer ou utiliser la fonction df.assign() (mieux)\n",
    "df_clean['Date'] = df_clean.to_datetime(df_clean['Date'])\n",
    "\n",
    "# 3) La valeur à la ligne 7 vous semble suspecte. Vous pouvez choisir de la remplacer par une valeur qui a plus de sense (45) \n",
    "#    ou vous pouvez simplement supprimer la ligne. Basez-vous toujours sur le tutoriel pour réaliser cette tâche. \n",
    "\n",
    "df_clean.loc[7, 'Duration'] = 45\n",
    "\n",
    "# Enfin on affiche notre dataframe propre et ses infos \n",
    "\n",
    "print(\"\\n\\n===================== Dataframe ====================\\n\\n\")\n",
    "print(df_clean)\n",
    "print(\"\\n\\n===================== Infos ====================\\n\\n\")\n",
    "print(df_clean.info()) \n"
   ]
  },
  {
   "cell_type": "markdown",
   "id": "852c2342",
   "metadata": {},
   "source": [
    "## loc et iloc\n",
    "\n",
    "Dans la partie ci-dessus, nous utilisons *loc* pour accéder à nos données. Il y a  deux fonctons bien distinctes, *loc* et *iloc*, qui permettent d'accéder aux données d'un dataframe. \n",
    "\n",
    "- loc se base sur les \"labels\" des lignes et colonnes\n",
    "- iloc se base sur les \"indices\" des lignes et colonnes\n",
    "\n",
    "Comment se fait-il qu'on accède alors avec un index à nos lignes en utilisant loc ? C'est parceque par défaut, Pandas va nommer les lignes avec des indices partant de 0, dès lors, *df.loc[0]* reviendra au même que *df.iloc[0]*. "
   ]
  },
  {
   "cell_type": "code",
   "execution_count": 25,
   "id": "34964ca8",
   "metadata": {},
   "outputs": [
    {
     "data": {
      "text/plain": [
       "Duration                     60\n",
       "Date        2020-12-01 00:00:00\n",
       "Pulse                       110\n",
       "Maxpulse                    130\n",
       "Calories                  409.1\n",
       "Name: 0, dtype: object"
      ]
     },
     "execution_count": 25,
     "metadata": {},
     "output_type": "execute_result"
    }
   ],
   "source": [
    "df_clean.loc[0]"
   ]
  },
  {
   "cell_type": "code",
   "execution_count": 26,
   "id": "93d8cc99",
   "metadata": {},
   "outputs": [
    {
     "data": {
      "text/plain": [
       "Duration                     60\n",
       "Date        2020-12-01 00:00:00\n",
       "Pulse                       110\n",
       "Maxpulse                    130\n",
       "Calories                  409.1\n",
       "Name: 0, dtype: object"
      ]
     },
     "execution_count": 26,
     "metadata": {},
     "output_type": "execute_result"
    }
   ],
   "source": [
    "df_clean.iloc[0]"
   ]
  },
  {
   "cell_type": "markdown",
   "id": "a5ffce6e",
   "metadata": {},
   "source": [
    "Pour filtrer les données avec des conditions vous pouvez utiliser df.loc() comme plus tôt dans le labo. Pour filtrer les données avec des indexes, utilisez df.iloc() comme ci-dessous. Attention aux bornes avec les slices! \n"
   ]
  },
  {
   "cell_type": "code",
   "execution_count": 27,
   "id": "e78795a0",
   "metadata": {},
   "outputs": [
    {
     "name": "stdout",
     "output_type": "stream",
     "text": [
      "With slices:\n",
      "\n",
      "        Date  Pulse\n",
      "2 2020-12-03    103\n",
      "3 2020-12-04    109\n",
      "\n",
      "With lists:\n",
      "\n",
      "        Date  Pulse  Maxpulse\n",
      "2 2020-12-03    103       135\n",
      "3 2020-12-04    109       175\n",
      "4 2020-12-05    117       148\n"
     ]
    }
   ],
   "source": [
    "print(\"With slices:\\n\")\n",
    "print(df_clean.iloc[2:4,1:3])\n",
    "print(\"\\nWith lists:\\n\")\n",
    "print(df_clean.iloc[[2,3,4],[1,2,3]])\n"
   ]
  },
  {
   "cell_type": "markdown",
   "id": "e28f3e67",
   "metadata": {},
   "source": [
    "____\n",
    "\n",
    "# Partie 4: MATPLOTLIB, Seaborn et le dataset Iris\n",
    "\n",
    "\n",
    "Une fois qu'on a nos données bien organisées dans un DataFrame, on ne va pas s'arrêter à en sortir les moyennes, écart-types et autre concept statistique. On a besoin de les représenter de manière visuelle ! C'est ici que Matplotlib intervient. Suivez le tutoriel sur [w3schools](https://www.w3schools.com/python/matplotlib_intro.asp) jusqu'à la partie **Histograms** compris et répondez aux questions ci-dessous. \n",
    "\n",
    "\n"
   ]
  },
  {
   "cell_type": "markdown",
   "id": "1db14aad",
   "metadata": {},
   "source": [
    "**1) Pourquoi utiliser Matplotlib ?**\n",
    "\n",
    "*Réponse:*\n",
    "\n",
    "**2) Allez regarder la [gallerie des exemples](https://matplotlib.org/stable/gallery/index) de Matplotlib et regardez rapidement les différents types de graphiques qu'il est possible de réaliser. Décrivez avec vos mots les graphiques suivants: Barchart, Boxplot et Scatterplot. Comment représentent-ils les données ? Que représentent les axes ? Vous pouvez vous aider d'autres sources sans les citer.**\n",
    "\n",
    "*Réponse:*\n",
    "\n",
    "**3) Le package scikit-learn fournit certain dataset connus comme [Iris](https://archive.ics.uci.edu/ml/datasets/iris), directement accessibles depuis le package une fois installé avec pip ou conda. Lisez rapidement la courte [page Wikipedia](https://fr.wikipedia.org/wiki/Iris_de_Fisher) le concernant. Pas besoin de s'attarder sur les concepts d'apprentissage statistiques, il s'agit juste de comprendre de quelles données on parle. Executez en suite le code ci-dessous en prenant soin de lire les descriptions en commentaire.**\n",
    "\n",
    "![asdf](https://machinelearninghd.com/wp-content/uploads/2021/03/iris-dataset.png)"
   ]
  },
  {
   "cell_type": "code",
   "execution_count": 46,
   "id": "ab9a4f63",
   "metadata": {},
   "outputs": [],
   "source": [
    "# Question 3: Importation et visualisation du dataset \"Iris\" \n",
    "\n",
    "\n",
    "# Importer la fonction load_iris pour charger les données\n",
    "from sklearn.datasets import load_iris\n",
    "\n",
    "# Charger les données dans une variable avec la fonction load_iris() que l'on vient d'importer. \n",
    "raw_data = load_iris()"
   ]
  },
  {
   "cell_type": "code",
   "execution_count": 29,
   "id": "44747a0a",
   "metadata": {},
   "outputs": [
    {
     "data": {
      "text/plain": [
       "dict_keys(['data', 'target', 'frame', 'target_names', 'DESCR', 'feature_names', 'filename', 'data_module'])"
      ]
     },
     "execution_count": 29,
     "metadata": {},
     "output_type": "execute_result"
    }
   ],
   "source": [
    "# Les données brutes retournées par la fonction load_iris() sont sous la forme d'un dictionnaire. On peut en voir\n",
    "#   les différentes sections avec la fonction attribut \"keys()\"\n",
    "\n",
    "# Ce qui nous intéresse le plus: les données (data), les noms de colonnes (feature_names) et \"target\" qui \n",
    "#   représente la variable de sortie, c'est-à-dire le nom de la variété de fleur, sous forme de classe (0, 1 ou 2).\n",
    "\n",
    "raw_data.keys()\n",
    "\n",
    "# Pour voir une section séparément, par exemple la description (DESCR), vous pouvez exécuter la ligne suivante:\n",
    "# print(raw_data['DESCR'])"
   ]
  },
  {
   "cell_type": "markdown",
   "id": "84970117",
   "metadata": {},
   "source": [
    "Création du DataFrame: "
   ]
  },
  {
   "cell_type": "code",
   "execution_count": 30,
   "id": "05c3347a",
   "metadata": {},
   "outputs": [],
   "source": [
    "# Assembler les différentes parties qui nous intéressent, en premier les données en specifiant les noms de colonnes:\n",
    "\n",
    "data = pd.DataFrame(raw_data[\"data\"], columns=raw_data[\"feature_names\"])\n",
    "\n",
    "# Puis on ajoute la colonne \"class\" qui contient la variété. Il y a plusieurs façons de faire:\n",
    "\n",
    "#        Avec cette notation, on peut utiliser un mot clé python, ou mettre des espaces dans le nom de la colonne.\n",
    "#                |\n",
    "# data.loc[:, \"class\"] = raw_data[\"target\"]\n",
    "\n",
    "# Alternativement et de manière plus moderne et lisible on peut utiliser la méthode  assign() ci-dessous. \n",
    "# Le point est la notation qui sert à \"chainer\" des méthodes les unes après les autres sur un DataFrame.\n",
    "\n",
    "# Notez qu'on ne peut pas utiliser la nom \"class\" comme nom de colonne ici car c'est un mot clé Python. On utilise species\n",
    "#  à la place. \n",
    "#  Il est aussi impossible d'avoir des espaces dans le nom des variables.\n",
    "#  Garder la notation avec les guillemets '\"' peut donc s'avérer utile dans certain cas.\n",
    "\n",
    "\n",
    "#       Nouveau nom -> peut poser problème avec cette notation sans guillemets \n",
    "#          |\n",
    "\n",
    "data[\"species\"] = raw_data[\"target\"]\n",
    "\n",
    "# Alternativement\n",
    "# data = data.assign(species=raw_data[\"target\"])\n"
   ]
  },
  {
   "cell_type": "code",
   "execution_count": 31,
   "id": "2b4ccaa3",
   "metadata": {},
   "outputs": [
    {
     "data": {
      "text/html": [
       "<div>\n",
       "<style scoped>\n",
       "    .dataframe tbody tr th:only-of-type {\n",
       "        vertical-align: middle;\n",
       "    }\n",
       "\n",
       "    .dataframe tbody tr th {\n",
       "        vertical-align: top;\n",
       "    }\n",
       "\n",
       "    .dataframe thead th {\n",
       "        text-align: right;\n",
       "    }\n",
       "</style>\n",
       "<table border=\"1\" class=\"dataframe\">\n",
       "  <thead>\n",
       "    <tr style=\"text-align: right;\">\n",
       "      <th></th>\n",
       "      <th>sepal length (cm)</th>\n",
       "      <th>sepal width (cm)</th>\n",
       "      <th>petal length (cm)</th>\n",
       "      <th>petal width (cm)</th>\n",
       "      <th>species</th>\n",
       "    </tr>\n",
       "  </thead>\n",
       "  <tbody>\n",
       "    <tr>\n",
       "      <th>0</th>\n",
       "      <td>5.1</td>\n",
       "      <td>3.5</td>\n",
       "      <td>1.4</td>\n",
       "      <td>0.2</td>\n",
       "      <td>0</td>\n",
       "    </tr>\n",
       "    <tr>\n",
       "      <th>1</th>\n",
       "      <td>4.9</td>\n",
       "      <td>3.0</td>\n",
       "      <td>1.4</td>\n",
       "      <td>0.2</td>\n",
       "      <td>0</td>\n",
       "    </tr>\n",
       "    <tr>\n",
       "      <th>2</th>\n",
       "      <td>4.7</td>\n",
       "      <td>3.2</td>\n",
       "      <td>1.3</td>\n",
       "      <td>0.2</td>\n",
       "      <td>0</td>\n",
       "    </tr>\n",
       "    <tr>\n",
       "      <th>3</th>\n",
       "      <td>4.6</td>\n",
       "      <td>3.1</td>\n",
       "      <td>1.5</td>\n",
       "      <td>0.2</td>\n",
       "      <td>0</td>\n",
       "    </tr>\n",
       "    <tr>\n",
       "      <th>4</th>\n",
       "      <td>5.0</td>\n",
       "      <td>3.6</td>\n",
       "      <td>1.4</td>\n",
       "      <td>0.2</td>\n",
       "      <td>0</td>\n",
       "    </tr>\n",
       "    <tr>\n",
       "      <th>...</th>\n",
       "      <td>...</td>\n",
       "      <td>...</td>\n",
       "      <td>...</td>\n",
       "      <td>...</td>\n",
       "      <td>...</td>\n",
       "    </tr>\n",
       "    <tr>\n",
       "      <th>145</th>\n",
       "      <td>6.7</td>\n",
       "      <td>3.0</td>\n",
       "      <td>5.2</td>\n",
       "      <td>2.3</td>\n",
       "      <td>2</td>\n",
       "    </tr>\n",
       "    <tr>\n",
       "      <th>146</th>\n",
       "      <td>6.3</td>\n",
       "      <td>2.5</td>\n",
       "      <td>5.0</td>\n",
       "      <td>1.9</td>\n",
       "      <td>2</td>\n",
       "    </tr>\n",
       "    <tr>\n",
       "      <th>147</th>\n",
       "      <td>6.5</td>\n",
       "      <td>3.0</td>\n",
       "      <td>5.2</td>\n",
       "      <td>2.0</td>\n",
       "      <td>2</td>\n",
       "    </tr>\n",
       "    <tr>\n",
       "      <th>148</th>\n",
       "      <td>6.2</td>\n",
       "      <td>3.4</td>\n",
       "      <td>5.4</td>\n",
       "      <td>2.3</td>\n",
       "      <td>2</td>\n",
       "    </tr>\n",
       "    <tr>\n",
       "      <th>149</th>\n",
       "      <td>5.9</td>\n",
       "      <td>3.0</td>\n",
       "      <td>5.1</td>\n",
       "      <td>1.8</td>\n",
       "      <td>2</td>\n",
       "    </tr>\n",
       "  </tbody>\n",
       "</table>\n",
       "<p>150 rows × 5 columns</p>\n",
       "</div>"
      ],
      "text/plain": [
       "     sepal length (cm)  sepal width (cm)  petal length (cm)  petal width (cm)  \\\n",
       "0                  5.1               3.5                1.4               0.2   \n",
       "1                  4.9               3.0                1.4               0.2   \n",
       "2                  4.7               3.2                1.3               0.2   \n",
       "3                  4.6               3.1                1.5               0.2   \n",
       "4                  5.0               3.6                1.4               0.2   \n",
       "..                 ...               ...                ...               ...   \n",
       "145                6.7               3.0                5.2               2.3   \n",
       "146                6.3               2.5                5.0               1.9   \n",
       "147                6.5               3.0                5.2               2.0   \n",
       "148                6.2               3.4                5.4               2.3   \n",
       "149                5.9               3.0                5.1               1.8   \n",
       "\n",
       "     species  \n",
       "0          0  \n",
       "1          0  \n",
       "2          0  \n",
       "3          0  \n",
       "4          0  \n",
       "..       ...  \n",
       "145        2  \n",
       "146        2  \n",
       "147        2  \n",
       "148        2  \n",
       "149        2  \n",
       "\n",
       "[150 rows x 5 columns]"
      ]
     },
     "execution_count": 31,
     "metadata": {},
     "output_type": "execute_result"
    }
   ],
   "source": [
    "data"
   ]
  },
  {
   "cell_type": "markdown",
   "id": "0241a4ae",
   "metadata": {},
   "source": [
    "**Donnez rapidement une description contenu du dataset avec vos mots**\n",
    "\n",
    "\n",
    "*Réponse*: "
   ]
  },
  {
   "cell_type": "markdown",
   "id": "aff06dad",
   "metadata": {},
   "source": [
    "**4) Exécutez les cellules suivantes.**\n",
    "\n",
    "Ressources intéressante, contient des exemples et des tutos pour plusieurs langages: [GeeksForGeeks - Box plot and Histogram exploration on Iris data](https://www.geeksforgeeks.org/box-plot-and-histogram-exploration-on-iris-data/?ref=lbp). "
   ]
  },
  {
   "cell_type": "code",
   "execution_count": 32,
   "id": "d8c547f2",
   "metadata": {},
   "outputs": [],
   "source": [
    "import matplotlib.pyplot as plt"
   ]
  },
  {
   "cell_type": "markdown",
   "id": "e2dc1962",
   "metadata": {},
   "source": [
    "##### Scatter plot"
   ]
  },
  {
   "cell_type": "code",
   "execution_count": 33,
   "id": "b3e20e40",
   "metadata": {},
   "outputs": [
    {
     "data": {
      "image/png": "[encoded data removed]",
      "text/plain": [
       "<Figure size 432x288 with 1 Axes>"
      ]
     },
     "metadata": {
      "needs_background": "light"
     },
     "output_type": "display_data"
    }
   ],
   "source": [
    "\n",
    "data.plot(kind =\"scatter\",\n",
    "          x ='sepal length (cm)',\n",
    "          y ='petal length (cm)')\n",
    "\n",
    "plt.grid()"
   ]
  },
  {
   "cell_type": "markdown",
   "id": "9165a628",
   "metadata": {},
   "source": [
    "##### Histograms"
   ]
  },
  {
   "cell_type": "code",
   "execution_count": 34,
   "id": "5c7af92a",
   "metadata": {},
   "outputs": [
    {
     "data": {
      "text/plain": [
       "Text(0, 0.5, 'Count')"
      ]
     },
     "execution_count": 34,
     "metadata": {},
     "output_type": "execute_result"
    },
    {
     "data": {
      "image/png": "[encoded data removed]",
      "text/plain": [
       "<Figure size 720x504 with 1 Axes>"
      ]
     },
     "metadata": {
      "needs_background": "light"
     },
     "output_type": "display_data"
    }
   ],
   "source": [
    "# Source: https://www.geeksforgeeks.org/plotting-graph-for-iris-dataset-using-seaborn-and-matplotlib/\n",
    "plt.figure(figsize = (10, 7))\n",
    "x = data[\"sepal length (cm)\"]\n",
    "\n",
    "plt.hist(x, bins = 20, color = \"green\")\n",
    "plt.title(\"Sepal Length in cm\")\n",
    "plt.xlabel(\"Sepal_Length_cm\")\n",
    "plt.ylabel(\"Count\")\n"
   ]
  },
  {
   "cell_type": "code",
   "execution_count": 35,
   "id": "adc7f6b6",
   "metadata": {},
   "outputs": [
    {
     "data": {
      "image/png": "[encoded data removed]",
      "text/plain": [
       "<Figure size 720x504 with 1 Axes>"
      ]
     },
     "metadata": {
      "needs_background": "light"
     },
     "output_type": "display_data"
    }
   ],
   "source": [
    "# Source: https://www.geeksforgeeks.org/plotting-graph-for-iris-dataset-using-seaborn-and-matplotlib/\n",
    "plt.figure(figsize = (10, 7))\n",
    "x = data[\"petal width (cm)\"]\n",
    "  \n",
    "plt.hist(x, bins = 20, color = \"blue\")\n",
    "plt.title(\"Petal Width in cm\")\n",
    "plt.xlabel(\"Petal_Width_cm\")\n",
    "plt.ylabel(\"Count\")\n",
    "  \n",
    "plt.show()"
   ]
  },
  {
   "cell_type": "markdown",
   "id": "cba21f8f",
   "metadata": {},
   "source": [
    "##### Boxplot - Boîte à moustache"
   ]
  },
  {
   "cell_type": "code",
   "execution_count": 36,
   "id": "8b9593b7",
   "metadata": {},
   "outputs": [
    {
     "data": {
      "text/plain": [
       "<AxesSubplot:>"
      ]
     },
     "execution_count": 36,
     "metadata": {},
     "output_type": "execute_result"
    },
    {
     "data": {
      "image/png": "[encoded data removed]",
      "text/plain": [
       "<Figure size 720x504 with 1 Axes>"
      ]
     },
     "metadata": {
      "needs_background": "light"
     },
     "output_type": "display_data"
    }
   ],
   "source": [
    "\n",
    "plt.figure(figsize = (10, 7))\n",
    "\n",
    "# On ne sélectionne que les données qui ont du sens pour être mises dans un boxplot.\n",
    "\n",
    "# Grâce à ce graphique, on peut observer la distribution des données, un peu comme avec un histogram, en ayant\n",
    "#  des information supplémentaires telles que l'asymétrie en affichant les quartiles et les moyennes des données,\n",
    "#  ainsi que les \"valeurs extrêmes\" représentées par des cercles. \n",
    "\n",
    "data[[\"sepal length (cm)\",\"sepal width (cm)\",\"petal length (cm)\",\"petal width (cm)\"]].boxplot()"
   ]
  },
  {
   "cell_type": "markdown",
   "id": "f83de0f7",
   "metadata": {},
   "source": [
    "**Remarques sur les graphiques ci-dessus:** Il est important de commencer par observer la distribution des données (petit rappel sur ce qu'est une distribution [en français](https://www.youtube.com/watch?v=bQaqzMNJv60) ou [en anglais (Crash Course)](https://www.youtube.com/watch?v=bPFNxD3Yg6U)). Avec les différents types de graphiques, on peut alors se faire une idée de ce à quoi les données ressemble. Plus on avance dans l'analyse de nos données, plus on va pouvoir complexifier l'analyse de nos données en mettant une variable en relation avec une autre, en utilisant plusieurs types de graphiques en même temps et en ajoutant des données plus complexes comme par exemple un coefficient de corrélation entre deux variables. \n",
    "\n",
    "Bien que cela soit tout à fait possible avec Matplotlib, la librairie *Seaborn* offre une alternative souvent plus agréable pour créer des graphiques complexes. "
   ]
  },
  {
   "cell_type": "markdown",
   "id": "8b86bd64",
   "metadata": {},
   "source": [
    "____\n",
    "## Seaborn\n",
    "\n",
    "Seaborn est une librairie construite sur Matplotlib qui fournit une interface plus haut niveau que Matplotlib. Pour faire court, c'est plus simple et plus beau, mais peut-être un peu moins flexible. \n",
    "\n",
    "\n",
    "\n",
    "\n",
    "**Exécutez et observer les cellules suivantes.**\n",
    "\n",
    "C'est tout ce qui vous sera demandé pour cette partie, observez et "
   ]
  },
  {
   "cell_type": "code",
   "execution_count": 37,
   "id": "b5224f9f",
   "metadata": {},
   "outputs": [],
   "source": [
    "import seaborn as sns"
   ]
  },
  {
   "cell_type": "code",
   "execution_count": 38,
   "id": "26cdede4",
   "metadata": {},
   "outputs": [
    {
     "data": {
      "text/plain": [
       "<seaborn.axisgrid.FacetGrid at 0x2a2358c9660>"
      ]
     },
     "execution_count": 38,
     "metadata": {},
     "output_type": "execute_result"
    },
    {
     "data": {
      "image/png": "[encoded data removed]",
      "text/plain": [
       "<Figure size 474x432 with 1 Axes>"
      ]
     },
     "metadata": {},
     "output_type": "display_data"
    }
   ],
   "source": [
    "# Source: https://www.geeksforgeeks.org/plotting-graph-for-iris-dataset-using-seaborn-and-matplotlib/\n",
    "# style used as a theme of graph\n",
    "# for example if we want black\n",
    "# graph with grid then write \"darkgrid\"\n",
    "sns.set_style(\"whitegrid\")\n",
    " \n",
    "# sepal_length, petal_length are iris\n",
    "# feature data height used to define\n",
    "# Height of graph whereas hue store the\n",
    "# class of iris dataset.\n",
    "sns.FacetGrid(data, hue =\"species\",\n",
    "              height = 6).map(plt.scatter,\n",
    "                              \"sepal length (cm)\",\n",
    "                              \"petal length (cm)\").add_legend()"
   ]
  },
  {
   "cell_type": "markdown",
   "id": "a77061d4",
   "metadata": {},
   "source": [
    "Maintenant, on peut observer nos données pour deux variables (sepal et petal length). Étant donné que le dataset est relativement petit, il est possible de les afficher toutes en même temps les unes par rapport aux autres, paire par paire. c'est ce qui est appelé un **pairplot**. "
   ]
  },
  {
   "cell_type": "code",
   "execution_count": 39,
   "id": "9ad38b99",
   "metadata": {},
   "outputs": [
    {
     "data": {
      "text/plain": [
       "Text(0.5, 1.02, 'Scatter plots by pair, colorized by label')"
      ]
     },
     "execution_count": 39,
     "metadata": {},
     "output_type": "execute_result"
    },
    {
     "data": {
      "image/png": "[encoded data removed]",
      "text/plain": [
       "<Figure size 762x720 with 20 Axes>"
      ]
     },
     "metadata": {},
     "output_type": "display_data"
    }
   ],
   "source": [
    "# Pairplot à l'aide de Seaborn.\n",
    "g = sns.pairplot(data, hue='species', palette={0: 'steelblue', 1: 'orangered', 2: 'seagreen'})\n",
    "plt.suptitle('Scatter plots by pair, colorized by label', fontsize=18, y=1.02)"
   ]
  },
  {
   "cell_type": "markdown",
   "id": "ae7cb376",
   "metadata": {},
   "source": [
    "Parmis toutes les variables, on peut alors distinguer lesquelles se distinguent le mieux selon la classe (espèce). On voit maintenant clairement que la longueur et la largeur des pétales sont plus courts pour l'espèce 0 par rapport aux deux autres alors que la largeur des sépales se confond beaucoup entre les classes. \n",
    "\n",
    "Pour se transporter un peu dans le futur de ce cours, on voit que la longueur et largeur de pétales serait une bonne variable pour prédir à quelle espèce appartient une fleur. "
   ]
  },
  {
   "cell_type": "markdown",
   "id": "4d3afab7",
   "metadata": {},
   "source": [
    "____\n",
    "\n",
    "## Questions générales\n",
    "\n",
    "Reparcourez ce notebook et posez vous les questions suivantes: \n",
    "\n",
    "- Quelle est l'utilité des Notebooks ?\n",
    "- Quels sont les roles de Numpy, Pandas et Matplotlib ?\n",
    "- Où puis-je retrouver rapidement les informations concernant ces trois outils ?\n",
    "- Est-ce que j'ai des questions à poser la prochaine fois ?"
   ]
  },
  {
   "cell_type": "code",
   "execution_count": 40,
   "id": "2535ca1b",
   "metadata": {},
   "outputs": [
    {
     "data": {
      "text/plain": [
       "[]"
      ]
     },
     "execution_count": 40,
     "metadata": {},
     "output_type": "execute_result"
    },
    {
     "data": {
      "image/png": "[encoded data removed]",
      "text/plain": [
       "<Figure size 576x576 with 1 Axes>"
      ]
     },
     "metadata": {},
     "output_type": "display_data"
    }
   ],
   "source": [
    "# https://gist.github.com/bbengfort/dd9d8027a37f3a96c44323a8303520f0\n",
    "fig = plt.figure(figsize=(8,8))\n",
    "ax = fig.add_subplot(1,1,1, aspect=1, title=\"Bonne journée !\")\n",
    "\n",
    "ax.scatter([.5],[.5], c='#FFCC00', s=120000, label=\"face\")\n",
    "ax.scatter([.35, .65], [.63, .63], c='k', s=1000, label=\"eyes\")\n",
    "\n",
    "X = np.linspace(.3, .7, 100)\n",
    "Y = 2* (X-.5)**2 + 0.30\n",
    "\n",
    "ax.plot(X, Y, c='k', linewidth=8, label=\"smile\")\n",
    "\n",
    "ax.set_xlim(0,1)\n",
    "ax.set_ylim(0,1)\n",
    "\n",
    "ax.spines['top'].set_visible(False)\n",
    "ax.spines['right'].set_visible(False)\n",
    "ax.spines['left'].set_visible(False)\n",
    "ax.spines['bottom'].set_visible(False)\n",
    "ax.set_xticks([])\n",
    "ax.set_yticks([])"
   ]
  }
 ],
 "metadata": {
  "kernelspec": {
   "display_name": "isd",
   "language": "python",
   "name": "isd"
  },
  "language_info": {
   "codemirror_mode": {
    "name": "ipython",
    "version": 3
   },
   "file_extension": ".py",
   "mimetype": "text/x-python",
   "name": "python",
   "nbconvert_exporter": "python",
   "pygments_lexer": "ipython3",
   "version": "3.9.18"
  }
 },
 "nbformat": 4,
 "nbformat_minor": 5
}
