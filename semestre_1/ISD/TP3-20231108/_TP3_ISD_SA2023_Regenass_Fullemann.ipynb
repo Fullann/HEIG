{
 "cells": [
  {
   "cell_type": "markdown",
   "id": "892f6460",
   "metadata": {},
   "source": [
    "# Introduction à la Science des données\n",
    "\n",
    "\n",
    "\n",
    "## Travail pratique 03 – Analyse Exploratoire des Données\n",
    "\n",
    "\n",
    "### Table des matières\n",
    "\n",
    "[Exercice 1: Pantheria, base de données d'animaux](#Exercice-1:-Pantheria,-base-de-données-d'animaux)\n",
    "- [1.1 Lecture des données](#1.1-Lecture-des-données)\n",
    "- [1.2 Exploration des masses des différents animaux](#1.2-Exploration-des-masses-des-différents-animaux)\n",
    "- [1.3 Histogramme des masses corporelles](#1.3-Histogramme-des-masses-corporelles)\n",
    "- [1.4 Min et Max](#1.4-Min-et-Max)\n",
    "- [1.5 Choix perso](#1.5-Choix-perso)\n",
    "\n",
    "[Exercice 2: Wine database - Analyse Exploratoire des données](##-Exercice-2:-Wine-database---Analyse-Exploratoire-des-données)\n",
    "- [2.1 Questions](#2.1-Questions)\n",
    "- [2.2 Lecture des données](#2.2-Lecture-des-données)\n",
    "- [2.3 Boxplot groupé](#2.3-Boxplot-groupé)\n",
    "- [2.4 Analyse des graphiques](#2.4-Analyse-des-graphiques)\n",
    "\n",
    "[Exercice 3: Introduction au modèle à base de règles](#Exercice-3:-Introduction-au-modèle-à-base-de-règles)\n",
    "\n",
    "***\n",
    "\n",
    "\n",
    "**Informations de groupe:**\n",
    "\n",
    "- Groupe: **14**\n",
    "\n",
    "- Prénoms1 Noms1 **Maxime Regenass**\n",
    "- Prénoms2 Noms2 **Nathan Füllemann**\n",
    "\n",
    "**Professeurs**: Carlos Peña et Stephan Robert\n",
    "\n",
    "**Assistant(s)**: Thibault Schowing, Arthur Babey\n",
    "\n",
    "**Emails**: prenom.nom@heig-vd.ch\n",
    "\n",
    "**Rendu**:\n",
    "\n",
    "- Date: dimanche 19.11.2023, 23h55 (2 semaines)\n",
    "\n",
    "\n",
    "- Une fois complété, rendez directement le notebook nommé correctement comme suit \"**TP3_ISD_SA2023_Nom1_Nom2(_Nom3).ipynb**\" en mettant les noms de famille de chacun des membres du groupe (pour ceux avec plusieurs noms de famille, vous pouvez mettre juste le premier)\n",
    "\n",
    "\n",
    "- Mettez vos Prénoms et noms en entier ci-dessus (ou il est indiqué **A COMPLETER**). \n",
    "\n",
    "\n",
    "- Les questions sont généralement indiquées en **gras** ou par une liste d'instructrions et les endroits où répondre sont indiqués par un \"*Réponse:*\" pour les réponses textuelles. \n",
    "\n",
    "\n",
    "- Pour les réponses nécessitant d'écrire du code, les cellules ont déjà été crées et un commentaire indique où/quoi répondre. \n",
    "\n",
    "\n",
    "- Note: Ce TP est noté sur 6\n",
    "\n",
    "\n",
    "\n",
    "<div class=\"alert alert-block alert-success\">\n",
    "<b>Objectifs </b>\n",
    "</div>\n",
    "\n",
    "- Pratiquer l'analyse exploratoire des données sur un premier set de données (PanTHERIA_1-0_WR05_Aug2008.txt)\n",
    "- Réaliser l'analyse exploratoire des données sur un second set de données, en prévision du TP suivant, et commencer à comprendre les modèles à base de règles. \n",
    "\n",
    "<div class=\"alert alert-block alert-info\">\n",
    "<b>Corrections: </b> Ce notebook vous sera renvoyé via Cyberlearn ou  un autre canal. Les informations principales concernant les corrections seront indiquées après chaque section (banière bleue) avec le nombre de points. Il est possible que des remarques concernant le code soient directement ajoutées dans celui-ci.\n",
    "</div>\n",
    "\n"
   ]
  },
  {
   "cell_type": "code",
   "execution_count": null,
   "id": "a00e833a",
   "metadata": {},
   "outputs": [
    {
     "ename": "",
     "evalue": "",
     "output_type": "error",
     "traceback": [
      "\u001b[1;31mLes cellules en cours d’exécution avec /opt/homebrew/bin/python3.12 nécessitent le package ipykernel.\n",
      "\u001b[1;31mRun the following command to install 'ipykernel' into the Python environment. \n",
      "\u001b[1;31mCommand: '/opt/homebrew/bin/python3.12 -m pip install ipykernel -U --user --force-reinstall'"
     ]
    }
   ],
   "source": [
    "# Imports\n",
    "import matplotlib.pyplot as plt\n",
    "import numpy as np\n",
    "import pandas as pd\n",
    "import seaborn as sns"
   ]
  },
  {
   "cell_type": "markdown",
   "id": "d84b4e28",
   "metadata": {},
   "source": [
    "## Exercice 1: Pantheria, base de données d'animaux\n",
    "\n"
   ]
  },
  {
   "cell_type": "markdown",
   "id": "3c192f1e",
   "metadata": {},
   "source": [
    "### 1.1 Lecture des données\n",
    "\n",
    "(5 points)\n",
    "\n",
    "Créez un DataFrame à partir du fichier CSV donné et explorez rapidement les données\n",
    "\n",
    "- Utilisez la fonction read_csv() de Pandas pour lire le fichier *PanTHERIA_1-0_WR05_Aug2008.txt* dans un DataFrame. Utilisez le bon séparateur. \n",
    "- Utilisez la fonction head() pour avoir un aperçu des différentes colonnes et valeurs\n",
    "- Répondez aux questions dans les cellules \"*Réponse...*\". \n"
   ]
  },
  {
   "cell_type": "code",
   "execution_count": null,
   "id": "1224e811",
   "metadata": {},
   "outputs": [
    {
     "ename": "",
     "evalue": "",
     "output_type": "error",
     "traceback": [
      "\u001b[1;31mLes cellules en cours d’exécution avec /opt/homebrew/bin/python3.12 nécessitent le package ipykernel.\n",
      "\u001b[1;31mRun the following command to install 'ipykernel' into the Python environment. \n",
      "\u001b[1;31mCommand: '/opt/homebrew/bin/python3.12 -m pip install ipykernel -U --user --force-reinstall'"
     ]
    }
   ],
   "source": [
    "# Lire le fichier dans un DataFrame\n",
    "df = pd.read_csv('PanTHERIA_1-0_WR05_Aug2008.txt', delimiter=\"\\t\")"
   ]
  },
  {
   "cell_type": "code",
   "execution_count": null,
   "id": "ed0aaa5d",
   "metadata": {},
   "outputs": [
    {
     "ename": "",
     "evalue": "",
     "output_type": "error",
     "traceback": [
      "\u001b[1;31mLes cellules en cours d’exécution avec /opt/homebrew/bin/python3.12 nécessitent le package ipykernel.\n",
      "\u001b[1;31mRun the following command to install 'ipykernel' into the Python environment. \n",
      "\u001b[1;31mCommand: '/opt/homebrew/bin/python3.12 -m pip install ipykernel -U --user --force-reinstall'"
     ]
    }
   ],
   "source": [
    "# Aperçu avec head(). \n",
    "df.head()\n"
   ]
  },
  {
   "cell_type": "code",
   "execution_count": null,
   "id": "2cc2328c",
   "metadata": {},
   "outputs": [
    {
     "ename": "",
     "evalue": "",
     "output_type": "error",
     "traceback": [
      "\u001b[1;31mLes cellules en cours d’exécution avec /opt/homebrew/bin/python3.12 nécessitent le package ipykernel.\n",
      "\u001b[1;31mRun the following command to install 'ipykernel' into the Python environment. \n",
      "\u001b[1;31mCommand: '/opt/homebrew/bin/python3.12 -m pip install ipykernel -U --user --force-reinstall'"
     ]
    }
   ],
   "source": [
    "# Nombre de ligne du dataset\n",
    "len(df)"
   ]
  },
  {
   "cell_type": "markdown",
   "id": "3ba9db9c",
   "metadata": {},
   "source": [
    "<p class=\"alert alert-block alert-info\"><font size=\"4\"><b>Q1 </b></font> Décrivez rapidement les données. Combien d'observations (lignes/rows) contient le dataset ? </p>"
   ]
  },
  {
   "cell_type": "markdown",
   "id": "a3233d63",
   "metadata": {},
   "source": [
    "Il en contient 5416"
   ]
  },
  {
   "cell_type": "markdown",
   "id": "66cad5ff",
   "metadata": {},
   "source": [
    "<p class=\"alert alert-block alert-info\"><font size=\"4\"><b>Q2 </b></font> Quelle valeur récurrente et abérrante observez-vous et que peut-elle signifier ?</p>\n"
   ]
  },
  {
   "cell_type": "markdown",
   "id": "917495a8",
   "metadata": {},
   "source": [
    "*Réponse...*: -999.0, qui signifie \"null\""
   ]
  },
  {
   "cell_type": "markdown",
   "id": "39de9d76",
   "metadata": {},
   "source": [
    "### 1.2 Exploration des masses des différents animaux\n",
    "\n",
    "(5 points)\n",
    "\n",
    "- Créez un dataframe contenant uniquement la colonne *5-1_AdultBodyMass_g*. Vous pouvez la renommer par exemple \"mass\" avec la fonction [rename()](https://pandas.pydata.org/docs/reference/api/pandas.DataFrame.rename.html) si vous voulez pour plus de lisibilité. **Nommez ce nouveau DataFrame \"df_mass\"**.\n",
    "- Utilisez les fonctions info() et describe() sur ce nouveau DataFrame. \n",
    "- Observez la distribution des valeurs (min, max, median, mean). Y a-t-il des données manquantes ? Donnez une rapide description de cette colonne dans la case *Description de la colonne:* ci-dessous. \n",
    "- Sur la base de vos observations du point précédent, créez un boxplot des masses en ne prenant pas en compte les données manquantes et décrivez le graphique. Utilisez une échelle logarithmique pour l'axe Y. N'oubliez pas de nommer vos axes et de donner un titre au graphique.\n",
    "\n",
    "Aide: Regardez la fonction [plot()](https://pandas.pydata.org/pandas-docs/version/0.22/generated/pandas.DataFrame.plot.html) de Pandas (en arrière plan, Matplotlib est utilisé bien entendu).\n"
   ]
  },
  {
   "cell_type": "code",
   "execution_count": null,
   "id": "a67031ad",
   "metadata": {},
   "outputs": [
    {
     "ename": "",
     "evalue": "",
     "output_type": "error",
     "traceback": [
      "\u001b[1;31mLes cellules en cours d’exécution avec /opt/homebrew/bin/python3.12 nécessitent le package ipykernel.\n",
      "\u001b[1;31mRun the following command to install 'ipykernel' into the Python environment. \n",
      "\u001b[1;31mCommand: '/opt/homebrew/bin/python3.12 -m pip install ipykernel -U --user --force-reinstall'"
     ]
    }
   ],
   "source": [
    "# Créez le DataFrame df_mass\n",
    "\n",
    "df_mass = df.loc[:, [\"5-1_AdultBodyMass_g\"]]"
   ]
  },
  {
   "cell_type": "code",
   "execution_count": null,
   "id": "dfc064e0",
   "metadata": {},
   "outputs": [
    {
     "ename": "",
     "evalue": "",
     "output_type": "error",
     "traceback": [
      "\u001b[1;31mLes cellules en cours d’exécution avec /opt/homebrew/bin/python3.12 nécessitent le package ipykernel.\n",
      "\u001b[1;31mRun the following command to install 'ipykernel' into the Python environment. \n",
      "\u001b[1;31mCommand: '/opt/homebrew/bin/python3.12 -m pip install ipykernel -U --user --force-reinstall'"
     ]
    }
   ],
   "source": [
    "# info()\n",
    "df_mass.info()"
   ]
  },
  {
   "cell_type": "code",
   "execution_count": null,
   "id": "2c442e39",
   "metadata": {},
   "outputs": [
    {
     "ename": "",
     "evalue": "",
     "output_type": "error",
     "traceback": [
      "\u001b[1;31mLes cellules en cours d’exécution avec /opt/homebrew/bin/python3.12 nécessitent le package ipykernel.\n",
      "\u001b[1;31mRun the following command to install 'ipykernel' into the Python environment. \n",
      "\u001b[1;31mCommand: '/opt/homebrew/bin/python3.12 -m pip install ipykernel -U --user --force-reinstall'"
     ]
    }
   ],
   "source": [
    "# describe()\n",
    "df_mass.describe()"
   ]
  },
  {
   "cell_type": "markdown",
   "id": "3e95633f",
   "metadata": {},
   "source": [
    "*Description de la colonne 5-1_AdultBodyMass_g:*"
   ]
  },
  {
   "cell_type": "code",
   "execution_count": null,
   "id": "ace115fe",
   "metadata": {},
   "outputs": [
    {
     "ename": "",
     "evalue": "",
     "output_type": "error",
     "traceback": [
      "\u001b[1;31mLes cellules en cours d’exécution avec /opt/homebrew/bin/python3.12 nécessitent le package ipykernel.\n",
      "\u001b[1;31mRun the following command to install 'ipykernel' into the Python environment. \n",
      "\u001b[1;31mCommand: '/opt/homebrew/bin/python3.12 -m pip install ipykernel -U --user --force-reinstall'"
     ]
    }
   ],
   "source": [
    "# Boxplot des masses sans les données manquantes\n",
    "df_mass_nonull = df_mass.loc[df_mass[\"5-1_AdultBodyMass_g\"] != -999.0]\n",
    "df_mass_nonull.plot.box().set_yscale('log')\n"
   ]
  },
  {
   "cell_type": "markdown",
   "id": "a81d4556",
   "metadata": {},
   "source": [
    "*Description du graphique:*\n",
    "\n",
    "On peut voir que toute les donnée sont au dessus de la boxplot"
   ]
  },
  {
   "cell_type": "markdown",
   "id": "91c82c52",
   "metadata": {},
   "source": [
    "<div class=\"alert alert-block alert-info\">\n",
    "<b>Corrections 1.1 - 1.2: </b> Points obtenus: 6/10\n",
    "</div>\n",
    "\n",
    "Remarques: \n",
    "- Aucune description des données -2\n",
    "- La description du boxplot est fausse en plus d'être incomplète -2"
   ]
  },
  {
   "cell_type": "markdown",
   "id": "4c030e53",
   "metadata": {},
   "source": [
    "### 1.3 Histogramme des masses corporelles\n",
    "\n",
    "(5 points)\n",
    "\n",
    "- Générez un histogramme des masses corporelles de tous les animaux.\n",
    "- Générez un histogramme des masses corporelles des animaux atteignant un poids de *moins de 50 kilos* à l'age adulte. (pour plus de précision, spécifiez 30 bins pour l'histogramme). "
   ]
  },
  {
   "cell_type": "code",
   "execution_count": null,
   "id": "f9030192",
   "metadata": {},
   "outputs": [
    {
     "ename": "",
     "evalue": "",
     "output_type": "error",
     "traceback": [
      "\u001b[1;31mLes cellules en cours d’exécution avec /opt/homebrew/bin/python3.12 nécessitent le package ipykernel.\n",
      "\u001b[1;31mRun the following command to install 'ipykernel' into the Python environment. \n",
      "\u001b[1;31mCommand: '/opt/homebrew/bin/python3.12 -m pip install ipykernel -U --user --force-reinstall'"
     ]
    }
   ],
   "source": [
    "# Histogramme\n",
    "df_mass_nonull.plot.hist(bins = 30).set_yscale('log')"
   ]
  },
  {
   "cell_type": "code",
   "execution_count": null,
   "id": "0df878b4",
   "metadata": {},
   "outputs": [
    {
     "ename": "",
     "evalue": "",
     "output_type": "error",
     "traceback": [
      "\u001b[1;31mLes cellules en cours d’exécution avec /opt/homebrew/bin/python3.12 nécessitent le package ipykernel.\n",
      "\u001b[1;31mRun the following command to install 'ipykernel' into the Python environment. \n",
      "\u001b[1;31mCommand: '/opt/homebrew/bin/python3.12 -m pip install ipykernel -U --user --force-reinstall'"
     ]
    }
   ],
   "source": [
    "# Histogramme des animaux de <50 kg, 30 bins\n",
    "\n",
    "df_mass_nonull.loc[df_mass[\"5-1_AdultBodyMass_g\"] < 50000].plot.hist(bins = 30).set_yscale('log')"
   ]
  },
  {
   "cell_type": "markdown",
   "id": "27dde0d1",
   "metadata": {},
   "source": [
    "<p class=\"alert alert-block alert-info\"><font size=\"4\"><b>Q3 </b></font> Que pouvez-vous conclure à partir de ces deux graphiques ? </p>\n",
    "\n"
   ]
  },
  {
   "cell_type": "markdown",
   "id": "f44403ab",
   "metadata": {},
   "source": [
    "On peut voir que les annimaux parte a peut pret tous du meme poid mais a l age adulte certain prenne énormément de poid"
   ]
  },
  {
   "cell_type": "markdown",
   "id": "2f4f8b0d",
   "metadata": {},
   "source": [
    "<div class=\"alert alert-block alert-info\">\n",
    "<b>Corrections 1.3: </b> Points obtenus: 2/5\n",
    "</div>\n",
    "\n",
    "Remarques: \n",
    "- Interprétation fausse des graphique. Les données représentent le poids à l'age adulte des animaux. -3\n"
   ]
  },
  {
   "cell_type": "markdown",
   "id": "152cc067",
   "metadata": {},
   "source": [
    "### 1.4 Min et Max\n",
    "\n",
    "(2 points)\n",
    "\n",
    "<p class=\"alert alert-block alert-info\"><font size=\"4\"><b>Q4 </b></font> Quel est le nom (binomial) de l'animal le plus léger ? et celui du plus lourd ?</p>\n",
    "\n"
   ]
  },
  {
   "cell_type": "code",
   "execution_count": null,
   "id": "f530d725",
   "metadata": {},
   "outputs": [
    {
     "ename": "",
     "evalue": "",
     "output_type": "error",
     "traceback": [
      "\u001b[1;31mLes cellules en cours d’exécution avec /opt/homebrew/bin/python3.12 nécessitent le package ipykernel.\n",
      "\u001b[1;31mRun the following command to install 'ipykernel' into the Python environment. \n",
      "\u001b[1;31mCommand: '/opt/homebrew/bin/python3.12 -m pip install ipykernel -U --user --force-reinstall'"
     ]
    }
   ],
   "source": [
    "df_filtered = df[df['5-1_AdultBodyMass_g'] != -999.0]\n",
    "\n",
    "# Vérifier si le DataFrame filtré n'est pas vide\n",
    "if not df_filtered.empty:\n",
    "    # Trouver l'animal le plus léger\n",
    "    animal_leger = df_filtered.loc[df_filtered['5-1_AdultBodyMass_g'].idxmin(), 'MSW05_Species']\n",
    "    masse_leger = df_filtered['5-1_AdultBodyMass_g'].min()\n",
    "\n",
    "    # Trouver l'animal le plus lourd\n",
    "    animal_lourd = df_filtered.loc[df_filtered['5-1_AdultBodyMass_g'].idxmax(), 'MSW05_Species']\n",
    "    masse_lourd = df_filtered['5-1_AdultBodyMass_g'].max()\n",
    "\n",
    "    # Afficher les résultats\n",
    "    print(f\"L'animal le plus léger est {animal_leger} avec une masse de {masse_leger} g.\")\n",
    "    print(f\"L'animal le plus lourd est {animal_lourd} avec une masse de {masse_lourd} g.\")\n",
    "else:\n",
    "    print(\"Aucun animal avec une masse valide n'a été trouvé.\")"
   ]
  },
  {
   "cell_type": "markdown",
   "id": "02aac316",
   "metadata": {},
   "source": [
    "*Réponse:*"
   ]
  },
  {
   "cell_type": "markdown",
   "id": "596fe028",
   "metadata": {},
   "source": [
    "<div class=\"alert alert-block alert-info\">\n",
    "<b>Corrections 1.4: </b> Points obtenus: 1/2\n",
    "</div>\n",
    "\n",
    "Remarques: \n",
    "- Bonne présentation mais le nom demandé est spécifiquement le nom binomial (une des colonnes) et non simplement l'espèce. -1"
   ]
  },
  {
   "cell_type": "markdown",
   "id": "ac2ccbda",
   "metadata": {},
   "source": [
    "### 1.5 Choix perso\n",
    "\n",
    "<p class=\"alert alert-block alert-info\"><font size=\"4\"><b>Q5 </b></font> Choisissez une autre variable/colonne du dataset et extrayez-en des informations.</p>\n",
    "\n",
    "\n",
    "De cette colonne, produisez un graphique de votre choix (Boxplot, barplot, ...) et grâce aux fonctions connues, donnez un/des nombres intéressant en lien avec votre graphique (Moyenne, médiane, etc). Restez concis et utilisez deux cellules de code (une pour le graph et une pour les autres infos) et une cellule Markdown pour le résultat. \n",
    "\n",
    "*E.g. Barplot -> df.info() -> On voit que N % des animaux vivent en groupe de moins de M individus.* "
   ]
  },
  {
   "cell_type": "code",
   "execution_count": null,
   "id": "e6ef5fb3",
   "metadata": {},
   "outputs": [
    {
     "ename": "",
     "evalue": "",
     "output_type": "error",
     "traceback": [
      "\u001b[1;31mLes cellules en cours d’exécution avec /opt/homebrew/bin/python3.12 nécessitent le package ipykernel.\n",
      "\u001b[1;31mRun the following command to install 'ipykernel' into the Python environment. \n",
      "\u001b[1;31mCommand: '/opt/homebrew/bin/python3.12 -m pip install ipykernel -U --user --force-reinstall'"
     ]
    }
   ],
   "source": [
    "# Filtrer les lignes où l'âge de dispersion est différent de -999.0\n",
    "df_filtered_dispersal = df[df['7-1_DispersalAge_d'] != -999.0]\n",
    "\n",
    "# Boxplot de l'âge de dispersion\n",
    "plt.figure(figsize=(10, 6))\n",
    "plt.boxplot(df_filtered_dispersal['7-1_DispersalAge_d'], vert=False)\n",
    "plt.title('Boxplot de l\\'âge de dispersion des animaux')\n",
    "plt.xlabel('Âge de dispersion (jours)')\n",
    "plt.show()\n",
    "\n",
    "# Calculer la moyenne et la médiane de l'âge de dispersion\n",
    "moyenne_dispersal = df_filtered_dispersal['7-1_DispersalAge_d'].mean()\n",
    "median_dispersal = df_filtered_dispersal['7-1_DispersalAge_d'].median()\n",
    "\n",
    "print(f\"La moyenne de l'âge de dispersion des animaux est d'environ {moyenne_dispersal:.2f} jours, tandis que la médiane est d'environ {median_dispersal:.2f} jours.\")"
   ]
  },
  {
   "cell_type": "markdown",
   "id": "0ba12344",
   "metadata": {},
   "source": [
    "<div class=\"alert alert-block alert-info\">\n",
    "<b>Corrections 1.5: </b> Points obtenus: 5/5\n",
    "</div>\n",
    "\n",
    "Remarques: \n",
    "- Le graphique aurait pu être mieux proportionné et vertical aurait été mieux (l'axe y ne veut plus rien dire) mais ok"
   ]
  },
  {
   "cell_type": "markdown",
   "id": "9839b5a6",
   "metadata": {},
   "source": [
    "---\n",
    "\n",
    "## Exercice 2: Wine database - Analyse Exploratoire des données\n",
    "\n",
    "\n",
    "\n",
    "Nous allons utiliser la base de données «Wine Data Set » disponible sur le dépôt de bases de données maintenu par l’Université de Californie à Irvine (UCI). Le lien direct est celui-ci : [http://archive.ics.uci.edu/ml/datasets/Wine?Quality].\n",
    "\n",
    "### 2.1 Questions\n",
    "\n",
    "(2 points)\n",
    "\n",
    "Parcourez rapidement la page et répondez aux questions suivantes:\n"
   ]
  },
  {
   "cell_type": "markdown",
   "id": "87fcde0e",
   "metadata": {},
   "source": [
    "<p class=\"alert alert-block alert-info\"><font size=\"4\"><b>Q6 </b></font> Quelles informations contiennent ces données (brièvement) ? </p>"
   ]
  },
  {
   "cell_type": "markdown",
   "id": "655d2dcc",
   "metadata": {},
   "source": [
    "Il contient des informations chimiques sur des vins provenant de trois cultivars différents en Italie. Il comporte 13 attributs, dont des mesures telles que le taux d'alcool, la teneur en phénols, la densité optique à 280 nm, et d'autres propriétés chimiques. "
   ]
  },
  {
   "cell_type": "markdown",
   "id": "d9aa4814",
   "metadata": {},
   "source": [
    "<p class=\"alert alert-block alert-info\"><font size=\"4\"><b>Q7 </b></font> Combien de colonnes y a-t-il ? </p>"
   ]
  },
  {
   "cell_type": "markdown",
   "id": "62497a4b",
   "metadata": {},
   "source": [
    "13 colonnes"
   ]
  },
  {
   "cell_type": "markdown",
   "id": "a0640add",
   "metadata": {},
   "source": [
    "### 2.2 Lecture des données\n",
    "\n",
    "(5 points)\n",
    "\n",
    "Créez un DataFrame à partir du fichier **wine.data** et des noms de colonnes fournis, puis explorez rapidement les données. Ouvrez rapidement le fichier et observez les données pour voir leur structure et mieux comprendre la suite et posez-vous ces questions (pas besoin de noter une réponse): \n",
    "\n",
    "- *De quel manière sont stockées les données ?* \n",
    "- *Pourquoi on nous donne une liste de noms de colonne ?*\n",
    "\n",
    "Chargez les données comme indiqué ci-dessous. Si vous le voulez vous pouvez directement charger ces données depuis Scikit-learn, à vous de trouver comment faire.\n",
    "\n",
    "- Utilisez la fonction read_csv() pour lire le fichier **wine.data** et spécifiez le paramètre *names* en lui passant la liste donnée ci-dessous."
   ]
  },
  {
   "cell_type": "code",
   "execution_count": null,
   "id": "335b1d76",
   "metadata": {},
   "outputs": [
    {
     "ename": "",
     "evalue": "",
     "output_type": "error",
     "traceback": [
      "\u001b[1;31mLes cellules en cours d’exécution avec /opt/homebrew/bin/python3.12 nécessitent le package ipykernel.\n",
      "\u001b[1;31mRun the following command to install 'ipykernel' into the Python environment. \n",
      "\u001b[1;31mCommand: '/opt/homebrew/bin/python3.12 -m pip install ipykernel -U --user --force-reinstall'"
     ]
    }
   ],
   "source": [
    "# Noms de colonnes \n",
    "\n",
    "headers = ['Class', 'Alcool', 'Malic acid', 'Ash', 'Alcalinity of ash', 'Magnesium', \n",
    "           'Total phenols', 'Flavanoids', 'Nonflavanoid phenols', 'Proanthocyanins', 'Color intensity', \n",
    "           'Hue', 'OD280/OD315 of diluted wines', 'Proline']\n",
    "\n",
    "# Créez le dataset et nommez le \"wines\"\n",
    "# Ajoutez votre code ici.\n",
    "wines = pd.read_csv('wine.data', names=headers)\n"
   ]
  },
  {
   "cell_type": "markdown",
   "id": "82dde129",
   "metadata": {},
   "source": [
    "- Explorez rapidement les données avec les fonctions habituelles pour récolter des informations (p.ex., nombre d’observations, de classes, d’attributs, statistiques des attributs, données manquantes)."
   ]
  },
  {
   "cell_type": "code",
   "execution_count": null,
   "id": "de4dc7e7",
   "metadata": {},
   "outputs": [
    {
     "ename": "",
     "evalue": "",
     "output_type": "error",
     "traceback": [
      "\u001b[1;31mLes cellules en cours d’exécution avec /opt/homebrew/bin/python3.12 nécessitent le package ipykernel.\n",
      "\u001b[1;31mRun the following command to install 'ipykernel' into the Python environment. \n",
      "\u001b[1;31mCommand: '/opt/homebrew/bin/python3.12 -m pip install ipykernel -U --user --force-reinstall'"
     ]
    }
   ],
   "source": [
    "# Explorez les données, ajoutez dautant de cellules que nécessaire.\n",
    "wines.head()"
   ]
  },
  {
   "cell_type": "markdown",
   "id": "c8ed269e",
   "metadata": {},
   "source": [
    "<p class=\"alert alert-block alert-info\"><font size=\"4\"><b>Q8 </b></font> La colonne \"Class\" contient notre variable dépendante (variable de sortie / output). Combien de classes différentes y a-t-il et à quoi correspondent-elles ? A quelle position se trouve cette colonne dans le DataFrame ? Utilisez la cellule ci-dessous si nécessaire puis répondez textuellement. </p>\n",
    " \n",
    "\n",
    "Aide: Utilisez la fonction *unique()* sur la colonne *Class* pour répondre à la première question.\n"
   ]
  },
  {
   "cell_type": "code",
   "execution_count": null,
   "id": "7d864e5d",
   "metadata": {},
   "outputs": [
    {
     "ename": "",
     "evalue": "",
     "output_type": "error",
     "traceback": [
      "\u001b[1;31mLes cellules en cours d’exécution avec /opt/homebrew/bin/python3.12 nécessitent le package ipykernel.\n",
      "\u001b[1;31mRun the following command to install 'ipykernel' into the Python environment. \n",
      "\u001b[1;31mCommand: '/opt/homebrew/bin/python3.12 -m pip install ipykernel -U --user --force-reinstall'"
     ]
    }
   ],
   "source": [
    "# Q6: Ecrivez votre code ici: \n",
    "# Obtenez le nombre de classes différentes dans la colonne \"Class\"\n",
    "num_classes = wines[\"Class\"].nunique()\n",
    "print(\"Nombre de classes différentes :\", num_classes)\n",
    "\n",
    "# Obtenez les valeurs uniques dans la colonne \"Class\"\n",
    "classes = wines[\"Class\"].unique()\n",
    "print(\"Classes différentes :\", classes)"
   ]
  },
  {
   "cell_type": "markdown",
   "id": "9f75d633",
   "metadata": {},
   "source": [
    "<b>Combien de classes différentes y a-t-il ?</b>\n",
    "\n",
    "Il y a trois classes différentes dans la colonne \"Class\".\n",
    "<br><b>À quoi correspondent ces classes ?</b>\n",
    "\n",
    "Les classes correspondent à différentes catégories de vins issues de trois cultivars différents.\n",
    "<br><b>À quelle position se trouve la colonne \"Class\" dans le DataFrame ?</b>\n",
    "\n",
    "La colonne \"Class\" est la première colonne du DataFrame."
   ]
  },
  {
   "cell_type": "markdown",
   "id": "0af589bd",
   "metadata": {},
   "source": [
    "### 2.3 Boxplot groupé\n",
    "\n",
    "(5 points)\n",
    "\n",
    "Créez un boxplot pour chaque variables, groupées par Class.\n",
    "\n",
    "Pour faire ceci, complétez le code ci-dessous en vous basant sur le pseudo code donné en commentaire entre les \"------\". N'utilisez que 2 lignes, une pour la boucle et une pour le graphique.\n",
    "\n",
    "- Aide: Pour obtenir les noms de colonnes utilisez *wines.columns*. Pour obtenir i dans la boucle, en plus des noms de colonne, utilisez la fonction *enumerate*.\n",
    "- Aide: Utilisez le [slicing](https://stackoverflow.com/questions/509211/understanding-slicing) pour obtenir tous les noms de colonne sauf Class (qui se trouve à une extrémité de la liste). \n",
    "- Aide: Utilisez la fonction [sns.boxplot de Seaborn](https://seaborn.pydata.org/generated/seaborn.boxplot.html) pour un résultat élégant très coloré, ou la fonction [pandas.DataFrame.boxplot](https://pandas.pydata.org/docs/reference/api/pandas.DataFrame.boxplot.html) pour un résultat épuré en toute simplicité.\n"
   ]
  },
  {
   "cell_type": "code",
   "execution_count": null,
   "id": "5277ef20",
   "metadata": {
    "scrolled": false
   },
   "outputs": [
    {
     "ename": "",
     "evalue": "",
     "output_type": "error",
     "traceback": [
      "\u001b[1;31mLes cellules en cours d’exécution avec /opt/homebrew/bin/python3.12 nécessitent le package ipykernel.\n",
      "\u001b[1;31mRun the following command to install 'ipykernel' into the Python environment. \n",
      "\u001b[1;31mCommand: '/opt/homebrew/bin/python3.12 -m pip install ipykernel -U --user --force-reinstall'"
     ]
    }
   ],
   "source": [
    "fig, axs = plt.subplots(2, 7, figsize=(20, 10)) # On spécifie le nombre de lignes et de colonnes de notre figure \n",
    "axs = axs.flatten() # -> 1D\n",
    "\n",
    "#----------\n",
    "# Pour i et chaque nom de colonne sauf class\n",
    "    # Boxplot avec pour x la Class, et pour y la variable. Utilisez ax=axs[i] pour insérer le plot dans la figure. !\n",
    "#----------  \n",
    "for i, col in enumerate(wines.columns[1:]):\n",
    "    sns.boxplot(data=wines, x=wines['Class'], y=wines[col], ax=axs.flat[i])\n",
    "\n",
    "fig.suptitle('Boxplot of the features by label', fontsize=14)    \n",
    "fig.tight_layout(rect=[0, 0.03, 1, 0.98])\n",
    "fig.delaxes(axs[13]) # Supprime le plot vide en bas à droite"
   ]
  },
  {
   "cell_type": "markdown",
   "id": "b2d94e6c",
   "metadata": {},
   "source": [
    "### 2.4 Analyse des graphiques\n",
    "\n",
    "(5 points)\n",
    "\n",
    "<p class=\"alert alert-block alert-info\"><font size=\"4\"><b>Q9 </b></font> D'après les boxplots ci-dessus, quelles variables permettraient le mieux de distinguer/séparer les trois classes ? Et de distinguer une classe des deux autres ? Discutez les meilleures options et donnez les 4 meilleures variables, ainsi que les valeurs approximatives qui permettent de séparer les 3 classes. Justifiez et discutez votre choix. </p>\n",
    "\n",
    "<p></p>\n",
    "<div class=\"alert alert-block alert-info\">Note: un modèle peut permettre, avec des règles simples, de distinguer deux classes l'une de l'autre. Par exemple pour distinguer un chat d'un chien sur des valeurs numérique on pourrait avoir les règles suivantes: \n",
    "\n",
    "- Si $souplesse < 2$ et $poids > 10$ -> c'est un chien\n",
    "- Sinon -> c'est un chat. \n",
    "\n",
    "Pour pouvoir établir ces règles, il faut donc avoir une vue sur les différentes variables. Ce n'est pas parfait mais le modèle reste simple. Il fonctionnera dans une bonne partie des cas mais on peut toujours tomber sur un Chihuahua souple de moins de 5 kilos par exemple. \n",
    "</div>"
   ]
  },
  {
   "cell_type": "markdown",
   "id": "18814034",
   "metadata": {},
   "source": [
    "On a repérer le boxplot de l'alcool, du total de phenomols, flavanoids et proline\n",
    "\n",
    "Pour l'alcool : <br>\n",
    "si c est entre 13,5 et 14,2 => Classe 1<br>\n",
    "si c est entre 12 et 12,5 => Classe 2<br>\n",
    "si c est entre 12,5 et 13,5 => Classe 3<br><br>\n",
    "Pour le total de phenomols : <br>\n",
    "si c est entre 2,6 et 3 => Classe 1<br>\n",
    "si c est entre 1,9 et 2,6 => Classe 2<br>\n",
    "si c est entre 1,4 et 1,9 => Classe 3<br><br>\n",
    "Pour les flavanoids : <br>\n",
    "si c est entre 2,8 et 3,2 => Classe 1<br>\n",
    "si c est entre 1,9 et 2,6 => Classe 2<br>\n",
    "si c est entre 0,6 et 1 => Classe 3<br><br>\n",
    "Pour les prolines : <br>\n",
    "si c est entre 1000 et 1250 => Classe 1<br>\n",
    "si c est entre 450 et 630 => Classe 2<br>\n",
    "si c est entre 600 et 700 => Classe 3<br><br>\n"
   ]
  },
  {
   "cell_type": "markdown",
   "id": "1a46f249",
   "metadata": {},
   "source": [
    "<div class=\"alert alert-block alert-info\">\n",
    "<b>Corrections 2.1-2.4: </b> Points obtenus: 16/17\n",
    "</div>\n",
    "\n",
    "Remarques: \n",
    "- il y a 14 colonnes en comptant la variable dépendante \"class\" -1\n",
    "- Attention pour 2.4, on demande les valeurs de séparration et non des intervals. Pour l'exercice suivant, si vous avez une nouvelle donnée avec par exemple proline = 1252, votre régle pour les prolines ne fonctionnera pas. Il est mieux de dire \"si plus grand que 1000, alors Classe 1\" \n",
    "- Quelle variable permettrai de distinguer une classe des deux autres ? "
   ]
  },
  {
   "cell_type": "markdown",
   "id": "c5e94725",
   "metadata": {},
   "source": [
    "---\n",
    "\n",
    "## Exercice 3: Introduction aux modèles à base de règles\n",
    "\n",
    "(10 points)\n",
    "\n",
    "Pour créer un modèle à base de règles (if-then-else) pour classifier les observations, vous utiliserez **une** des 3 variables choisies dans l'exercice 2 ci-dessus. Ce que l'on veut c'est des règles du type: si *composé A* > 12 alors class = 1, si *composé A* < 8 alors class = 2, sinon class = 3. Ceci peut-être étendu a plusieurs variables avec plus ou moins de conditions, mais gardons les choses simples pour cet exercice. \n",
    "\n",
    "\n"
   ]
  },
  {
   "cell_type": "markdown",
   "id": "ab940bc4",
   "metadata": {},
   "source": [
    "<p class=\"alert alert-block alert-info\"><font size=\"4\"><b>Q10 </b></font> Ajoutez au DataFrame wines (ou à une copie) une colone \"pred\" contenant les prédictions effectuées à l'aide d'une des variables choisies. Ecrivez-en le code ci-dessous. </p>\n",
    "\n",
    "\n",
    "\n",
    "**Note:** Vous êtes libre de votre manière de faire mais le plus simple et de prévoir une fonction qui prend en entrée votre variable choisie et qui retourne la prédiction (1, 2 ou 3). Dans ce genre d'exercice, pour ajouter une colonne en fonction des valeurs d'une autre, la fonction *apply()* permet d'appliquer une fonction sur toutes les observations d'un Dataframe. Vous pouvez trouver quelques exemples [ici](https://sparkbyexamples.com/pandas/pandas-apply-function-to-every-row/). Ce sera utile pour plus tard ! "
   ]
  },
  {
   "cell_type": "code",
   "execution_count": null,
   "id": "e34b9cac",
   "metadata": {},
   "outputs": [
    {
     "ename": "",
     "evalue": "",
     "output_type": "error",
     "traceback": [
      "\u001b[1;31mLes cellules en cours d’exécution avec /opt/homebrew/bin/python3.12 nécessitent le package ipykernel.\n",
      "\u001b[1;31mRun the following command to install 'ipykernel' into the Python environment. \n",
      "\u001b[1;31mCommand: '/opt/homebrew/bin/python3.12 -m pip install ipykernel -U --user --force-reinstall'"
     ]
    }
   ],
   "source": [
    "# Choisissez la variable pour laquelle vous souhaitez créer des règles\n",
    "selected_variable = \"Class\"\n",
    "\n",
    "# Définissez les règles if-then-else\n",
    "def predict_class(value):\n",
    "    if value > 12:\n",
    "        return 1\n",
    "    elif value < 8:\n",
    "        return 2\n",
    "    else:\n",
    "        return 3\n",
    "\n",
    "# Appliquez les règles à la variable sélectionnée pour créer la colonne \"pred\"\n",
    "wines['pred'] = wines[selected_variable].apply(predict_class)\n"
   ]
  },
  {
   "cell_type": "markdown",
   "id": "cf6c2466",
   "metadata": {},
   "source": [
    "<p class=\"alert alert-block alert-info\"><font size=\"4\"><b>Q11 </b></font> Calculez et affichez la proportion de prédiction correcte (Accuracy) de votre modèle. Faites la matrice de confusion.</p>\n",
    "\n",
    "**Note:** Vous pouvez faire la matrice de confusion en python ou à la main (dans le sens textuel). \n"
   ]
  },
  {
   "cell_type": "code",
   "execution_count": null,
   "id": "d279e094",
   "metadata": {},
   "outputs": [
    {
     "ename": "",
     "evalue": "",
     "output_type": "error",
     "traceback": [
      "\u001b[1;31mLes cellules en cours d’exécution avec /opt/homebrew/bin/python3.12 nécessitent le package ipykernel.\n",
      "\u001b[1;31mRun the following command to install 'ipykernel' into the Python environment. \n",
      "\u001b[1;31mCommand: '/opt/homebrew/bin/python3.12 -m pip install ipykernel -U --user --force-reinstall'"
     ]
    }
   ],
   "source": [
    "# Q9\n",
    "# Ecrivez votre code ici.\n",
    "from sklearn.metrics import accuracy_score, confusion_matrix\n",
    "\n",
    "# Calculez la proportion de prédictions correctes (Accuracy)\n",
    "accuracy = accuracy_score(wines[selected_variable], wines['pred'])\n",
    "print(f\"Accuracy: {accuracy:.2%}\")\n",
    "\n",
    "# Générez et affichez la matrice de confusion\n",
    "conf_matrix = confusion_matrix(wines[selected_variable], wines['pred'])\n",
    "print(\"Matrice de confusion:\")\n",
    "print(conf_matrix)\n",
    "\n",
    "\n"
   ]
  },
  {
   "cell_type": "markdown",
   "id": "11f7ebce",
   "metadata": {},
   "source": [
    "*Réponse...*\n",
    "\n"
   ]
  },
  {
   "cell_type": "markdown",
   "id": "0d497ba1",
   "metadata": {},
   "source": [
    "---\n",
    "<div class=\"alert alert-block alert-info\">\n",
    "<b>Corrections Ex 3: </b> Points obtenus: 5/10\n",
    "</div>\n",
    "\n",
    "Remarques: \n",
    "\n",
    "- vous utilisez la colonne Class pour prédire.. Class ? Votre règle prédit systématiquement la classe 2 étant donné que la colonne class est toujours plus petit que 8. Votre code semble fonctionnel mais vos résultats et analyse ne sont pas complets. -5\n",
    "\n",
    "---\n",
    "\n",
    "\n",
    "- nom du groupe faux -5\n",
    "- Faites des phrases de plus de 12 caractères pour les réponses, on voit qu'au début vous avez presque ignoré les questions ce qui a mené à une incompréhension des données. "
   ]
  },
  {
   "cell_type": "markdown",
   "id": "b8a94a8e",
   "metadata": {},
   "source": [
    "FIN"
   ]
  }
 ],
 "metadata": {
  "kernelspec": {
   "display_name": "Python 3",
   "language": "python",
   "name": "python3"
  },
  "language_info": {
   "codemirror_mode": {
    "name": "ipython",
    "version": 3
   },
   "file_extension": ".py",
   "mimetype": "text/x-python",
   "name": "python",
   "nbconvert_exporter": "python",
   "pygments_lexer": "ipython3",
   "version": "3.12.0"
  }
 },
 "nbformat": 4,
 "nbformat_minor": 5
}
